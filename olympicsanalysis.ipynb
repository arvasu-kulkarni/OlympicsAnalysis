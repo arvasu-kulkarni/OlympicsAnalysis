{
 "cells": [
  {
   "cell_type": "code",
   "execution_count": 1,
   "metadata": {},
   "outputs": [],
   "source": [
    "import numpy as np\n",
    "import pandas as pd"
   ]
  },
  {
   "cell_type": "code",
   "execution_count": 2,
   "metadata": {},
   "outputs": [],
   "source": [
    "data = pd.read_csv('2024_Olympics_Medal_Predictions.csv')"
   ]
  },
  {
   "cell_type": "code",
   "execution_count": 3,
   "metadata": {},
   "outputs": [
    {
     "data": {
      "text/html": [
       "<div>\n",
       "<style scoped>\n",
       "    .dataframe tbody tr th:only-of-type {\n",
       "        vertical-align: middle;\n",
       "    }\n",
       "\n",
       "    .dataframe tbody tr th {\n",
       "        vertical-align: top;\n",
       "    }\n",
       "\n",
       "    .dataframe thead th {\n",
       "        text-align: right;\n",
       "    }\n",
       "</style>\n",
       "<table border=\"1\" class=\"dataframe\">\n",
       "  <thead>\n",
       "    <tr style=\"text-align: right;\">\n",
       "      <th></th>\n",
       "      <th>NOC</th>\n",
       "      <th>Gold</th>\n",
       "      <th>Silver</th>\n",
       "      <th>Bronze</th>\n",
       "      <th>Total</th>\n",
       "    </tr>\n",
       "  </thead>\n",
       "  <tbody>\n",
       "    <tr>\n",
       "      <th>0</th>\n",
       "      <td>Albania</td>\n",
       "      <td>0.000000</td>\n",
       "      <td>0.000000</td>\n",
       "      <td>0.055556</td>\n",
       "      <td>0.027778</td>\n",
       "    </tr>\n",
       "    <tr>\n",
       "      <th>1</th>\n",
       "      <td>Algeria</td>\n",
       "      <td>0.132479</td>\n",
       "      <td>0.000000</td>\n",
       "      <td>0.020408</td>\n",
       "      <td>0.044309</td>\n",
       "    </tr>\n",
       "    <tr>\n",
       "      <th>2</th>\n",
       "      <td>Argentina</td>\n",
       "      <td>0.045455</td>\n",
       "      <td>0.100000</td>\n",
       "      <td>0.500000</td>\n",
       "      <td>0.215152</td>\n",
       "    </tr>\n",
       "    <tr>\n",
       "      <th>3</th>\n",
       "      <td>Armenia</td>\n",
       "      <td>0.000000</td>\n",
       "      <td>0.211111</td>\n",
       "      <td>0.027778</td>\n",
       "      <td>0.079293</td>\n",
       "    </tr>\n",
       "    <tr>\n",
       "      <th>4</th>\n",
       "      <td>Australia</td>\n",
       "      <td>1.333886</td>\n",
       "      <td>1.823585</td>\n",
       "      <td>0.825171</td>\n",
       "      <td>1.341082</td>\n",
       "    </tr>\n",
       "    <tr>\n",
       "      <th>...</th>\n",
       "      <td>...</td>\n",
       "      <td>...</td>\n",
       "      <td>...</td>\n",
       "      <td>...</td>\n",
       "      <td>...</td>\n",
       "    </tr>\n",
       "    <tr>\n",
       "      <th>87</th>\n",
       "      <td>Uganda</td>\n",
       "      <td>0.020833</td>\n",
       "      <td>0.020833</td>\n",
       "      <td>0.000000</td>\n",
       "      <td>0.013793</td>\n",
       "    </tr>\n",
       "    <tr>\n",
       "      <th>88</th>\n",
       "      <td>Ukraine</td>\n",
       "      <td>0.181090</td>\n",
       "      <td>0.295833</td>\n",
       "      <td>0.151927</td>\n",
       "      <td>0.197955</td>\n",
       "    </tr>\n",
       "    <tr>\n",
       "      <th>89</th>\n",
       "      <td>United States</td>\n",
       "      <td>3.326786</td>\n",
       "      <td>3.699681</td>\n",
       "      <td>4.251277</td>\n",
       "      <td>3.774641</td>\n",
       "    </tr>\n",
       "    <tr>\n",
       "      <th>90</th>\n",
       "      <td>Uzbekistan</td>\n",
       "      <td>0.631838</td>\n",
       "      <td>0.225000</td>\n",
       "      <td>0.094444</td>\n",
       "      <td>0.269765</td>\n",
       "    </tr>\n",
       "    <tr>\n",
       "      <th>91</th>\n",
       "      <td>Zambia</td>\n",
       "      <td>0.000000</td>\n",
       "      <td>0.000000</td>\n",
       "      <td>0.020408</td>\n",
       "      <td>0.006897</td>\n",
       "    </tr>\n",
       "  </tbody>\n",
       "</table>\n",
       "<p>92 rows × 5 columns</p>\n",
       "</div>"
      ],
      "text/plain": [
       "              NOC      Gold    Silver    Bronze     Total\n",
       "0         Albania  0.000000  0.000000  0.055556  0.027778\n",
       "1         Algeria  0.132479  0.000000  0.020408  0.044309\n",
       "2       Argentina  0.045455  0.100000  0.500000  0.215152\n",
       "3         Armenia  0.000000  0.211111  0.027778  0.079293\n",
       "4       Australia  1.333886  1.823585  0.825171  1.341082\n",
       "..            ...       ...       ...       ...       ...\n",
       "87         Uganda  0.020833  0.020833  0.000000  0.013793\n",
       "88        Ukraine  0.181090  0.295833  0.151927  0.197955\n",
       "89  United States  3.326786  3.699681  4.251277  3.774641\n",
       "90     Uzbekistan  0.631838  0.225000  0.094444  0.269765\n",
       "91         Zambia  0.000000  0.000000  0.020408  0.006897\n",
       "\n",
       "[92 rows x 5 columns]"
      ]
     },
     "execution_count": 3,
     "metadata": {},
     "output_type": "execute_result"
    }
   ],
   "source": [
    "data"
   ]
  },
  {
   "cell_type": "code",
   "execution_count": 4,
   "metadata": {},
   "outputs": [],
   "source": [
    "w_g = 10\n",
    "w_s = 4\n",
    "w_b = 2"
   ]
  },
  {
   "cell_type": "code",
   "execution_count": 5,
   "metadata": {},
   "outputs": [],
   "source": [
    "weighted_score = w_g * data['Gold'] + w_s * data['Silver'] + w_b * data['Bronze']\n",
    "data['Weighted Score'] = weighted_score\n",
    "data = data.sort_values(by='Weighted Score', ascending=False, ignore_index=True)"
   ]
  },
  {
   "cell_type": "code",
   "execution_count": 6,
   "metadata": {},
   "outputs": [
    {
     "data": {
      "text/html": [
       "<div>\n",
       "<style scoped>\n",
       "    .dataframe tbody tr th:only-of-type {\n",
       "        vertical-align: middle;\n",
       "    }\n",
       "\n",
       "    .dataframe tbody tr th {\n",
       "        vertical-align: top;\n",
       "    }\n",
       "\n",
       "    .dataframe thead th {\n",
       "        text-align: right;\n",
       "    }\n",
       "</style>\n",
       "<table border=\"1\" class=\"dataframe\">\n",
       "  <thead>\n",
       "    <tr style=\"text-align: right;\">\n",
       "      <th></th>\n",
       "      <th>NOC</th>\n",
       "      <th>Gold</th>\n",
       "      <th>Silver</th>\n",
       "      <th>Bronze</th>\n",
       "      <th>Total</th>\n",
       "      <th>Weighted Score</th>\n",
       "    </tr>\n",
       "  </thead>\n",
       "  <tbody>\n",
       "    <tr>\n",
       "      <th>0</th>\n",
       "      <td>China</td>\n",
       "      <td>5.076111</td>\n",
       "      <td>3.350849</td>\n",
       "      <td>1.925100</td>\n",
       "      <td>3.435164</td>\n",
       "      <td>68.014708</td>\n",
       "    </tr>\n",
       "    <tr>\n",
       "      <th>1</th>\n",
       "      <td>United States</td>\n",
       "      <td>3.326786</td>\n",
       "      <td>3.699681</td>\n",
       "      <td>4.251277</td>\n",
       "      <td>3.774641</td>\n",
       "      <td>56.569141</td>\n",
       "    </tr>\n",
       "    <tr>\n",
       "      <th>2</th>\n",
       "      <td>France*</td>\n",
       "      <td>2.231972</td>\n",
       "      <td>4.212359</td>\n",
       "      <td>2.359547</td>\n",
       "      <td>2.937740</td>\n",
       "      <td>43.888248</td>\n",
       "    </tr>\n",
       "    <tr>\n",
       "      <th>3</th>\n",
       "      <td>Japan</td>\n",
       "      <td>1.998611</td>\n",
       "      <td>1.973538</td>\n",
       "      <td>1.641520</td>\n",
       "      <td>1.827522</td>\n",
       "      <td>31.163304</td>\n",
       "    </tr>\n",
       "    <tr>\n",
       "      <th>4</th>\n",
       "      <td>Great Britain</td>\n",
       "      <td>1.491944</td>\n",
       "      <td>2.000393</td>\n",
       "      <td>2.876183</td>\n",
       "      <td>2.121701</td>\n",
       "      <td>28.673379</td>\n",
       "    </tr>\n",
       "    <tr>\n",
       "      <th>...</th>\n",
       "      <td>...</td>\n",
       "      <td>...</td>\n",
       "      <td>...</td>\n",
       "      <td>...</td>\n",
       "      <td>...</td>\n",
       "      <td>...</td>\n",
       "    </tr>\n",
       "    <tr>\n",
       "      <th>87</th>\n",
       "      <td>Grenada</td>\n",
       "      <td>0.000000</td>\n",
       "      <td>0.000000</td>\n",
       "      <td>0.040816</td>\n",
       "      <td>0.013793</td>\n",
       "      <td>0.081633</td>\n",
       "    </tr>\n",
       "    <tr>\n",
       "      <th>88</th>\n",
       "      <td>Refugee Olympic Team</td>\n",
       "      <td>0.000000</td>\n",
       "      <td>0.000000</td>\n",
       "      <td>0.038462</td>\n",
       "      <td>0.019231</td>\n",
       "      <td>0.076923</td>\n",
       "    </tr>\n",
       "    <tr>\n",
       "      <th>89</th>\n",
       "      <td>Cape Verde</td>\n",
       "      <td>0.000000</td>\n",
       "      <td>0.000000</td>\n",
       "      <td>0.038462</td>\n",
       "      <td>0.019231</td>\n",
       "      <td>0.076923</td>\n",
       "    </tr>\n",
       "    <tr>\n",
       "      <th>90</th>\n",
       "      <td>Qatar</td>\n",
       "      <td>0.000000</td>\n",
       "      <td>0.000000</td>\n",
       "      <td>0.020408</td>\n",
       "      <td>0.006897</td>\n",
       "      <td>0.040816</td>\n",
       "    </tr>\n",
       "    <tr>\n",
       "      <th>91</th>\n",
       "      <td>Zambia</td>\n",
       "      <td>0.000000</td>\n",
       "      <td>0.000000</td>\n",
       "      <td>0.020408</td>\n",
       "      <td>0.006897</td>\n",
       "      <td>0.040816</td>\n",
       "    </tr>\n",
       "  </tbody>\n",
       "</table>\n",
       "<p>92 rows × 6 columns</p>\n",
       "</div>"
      ],
      "text/plain": [
       "                     NOC      Gold    Silver    Bronze     Total  \\\n",
       "0                  China  5.076111  3.350849  1.925100  3.435164   \n",
       "1          United States  3.326786  3.699681  4.251277  3.774641   \n",
       "2                France*  2.231972  4.212359  2.359547  2.937740   \n",
       "3                  Japan  1.998611  1.973538  1.641520  1.827522   \n",
       "4          Great Britain  1.491944  2.000393  2.876183  2.121701   \n",
       "..                   ...       ...       ...       ...       ...   \n",
       "87               Grenada  0.000000  0.000000  0.040816  0.013793   \n",
       "88  Refugee Olympic Team  0.000000  0.000000  0.038462  0.019231   \n",
       "89            Cape Verde  0.000000  0.000000  0.038462  0.019231   \n",
       "90                 Qatar  0.000000  0.000000  0.020408  0.006897   \n",
       "91                Zambia  0.000000  0.000000  0.020408  0.006897   \n",
       "\n",
       "    Weighted Score  \n",
       "0        68.014708  \n",
       "1        56.569141  \n",
       "2        43.888248  \n",
       "3        31.163304  \n",
       "4        28.673379  \n",
       "..             ...  \n",
       "87        0.081633  \n",
       "88        0.076923  \n",
       "89        0.076923  \n",
       "90        0.040816  \n",
       "91        0.040816  \n",
       "\n",
       "[92 rows x 6 columns]"
      ]
     },
     "execution_count": 6,
     "metadata": {},
     "output_type": "execute_result"
    }
   ],
   "source": [
    "data"
   ]
  },
  {
   "cell_type": "code",
   "execution_count": 7,
   "metadata": {},
   "outputs": [],
   "source": [
    "data.at[2, \"NOC\"] = \"France\""
   ]
  },
  {
   "cell_type": "code",
   "execution_count": 8,
   "metadata": {},
   "outputs": [
    {
     "data": {
      "text/html": [
       "<div>\n",
       "<style scoped>\n",
       "    .dataframe tbody tr th:only-of-type {\n",
       "        vertical-align: middle;\n",
       "    }\n",
       "\n",
       "    .dataframe tbody tr th {\n",
       "        vertical-align: top;\n",
       "    }\n",
       "\n",
       "    .dataframe thead th {\n",
       "        text-align: right;\n",
       "    }\n",
       "</style>\n",
       "<table border=\"1\" class=\"dataframe\">\n",
       "  <thead>\n",
       "    <tr style=\"text-align: right;\">\n",
       "      <th></th>\n",
       "      <th>NOC</th>\n",
       "      <th>Gold</th>\n",
       "      <th>Silver</th>\n",
       "      <th>Bronze</th>\n",
       "      <th>Total</th>\n",
       "      <th>Weighted Score</th>\n",
       "    </tr>\n",
       "  </thead>\n",
       "  <tbody>\n",
       "    <tr>\n",
       "      <th>0</th>\n",
       "      <td>China</td>\n",
       "      <td>5.076111</td>\n",
       "      <td>3.350849</td>\n",
       "      <td>1.925100</td>\n",
       "      <td>3.435164</td>\n",
       "      <td>68.014708</td>\n",
       "    </tr>\n",
       "    <tr>\n",
       "      <th>1</th>\n",
       "      <td>United States</td>\n",
       "      <td>3.326786</td>\n",
       "      <td>3.699681</td>\n",
       "      <td>4.251277</td>\n",
       "      <td>3.774641</td>\n",
       "      <td>56.569141</td>\n",
       "    </tr>\n",
       "    <tr>\n",
       "      <th>2</th>\n",
       "      <td>France</td>\n",
       "      <td>2.231972</td>\n",
       "      <td>4.212359</td>\n",
       "      <td>2.359547</td>\n",
       "      <td>2.937740</td>\n",
       "      <td>43.888248</td>\n",
       "    </tr>\n",
       "    <tr>\n",
       "      <th>3</th>\n",
       "      <td>Japan</td>\n",
       "      <td>1.998611</td>\n",
       "      <td>1.973538</td>\n",
       "      <td>1.641520</td>\n",
       "      <td>1.827522</td>\n",
       "      <td>31.163304</td>\n",
       "    </tr>\n",
       "    <tr>\n",
       "      <th>4</th>\n",
       "      <td>Great Britain</td>\n",
       "      <td>1.491944</td>\n",
       "      <td>2.000393</td>\n",
       "      <td>2.876183</td>\n",
       "      <td>2.121701</td>\n",
       "      <td>28.673379</td>\n",
       "    </tr>\n",
       "    <tr>\n",
       "      <th>...</th>\n",
       "      <td>...</td>\n",
       "      <td>...</td>\n",
       "      <td>...</td>\n",
       "      <td>...</td>\n",
       "      <td>...</td>\n",
       "      <td>...</td>\n",
       "    </tr>\n",
       "    <tr>\n",
       "      <th>87</th>\n",
       "      <td>Grenada</td>\n",
       "      <td>0.000000</td>\n",
       "      <td>0.000000</td>\n",
       "      <td>0.040816</td>\n",
       "      <td>0.013793</td>\n",
       "      <td>0.081633</td>\n",
       "    </tr>\n",
       "    <tr>\n",
       "      <th>88</th>\n",
       "      <td>Refugee Olympic Team</td>\n",
       "      <td>0.000000</td>\n",
       "      <td>0.000000</td>\n",
       "      <td>0.038462</td>\n",
       "      <td>0.019231</td>\n",
       "      <td>0.076923</td>\n",
       "    </tr>\n",
       "    <tr>\n",
       "      <th>89</th>\n",
       "      <td>Cape Verde</td>\n",
       "      <td>0.000000</td>\n",
       "      <td>0.000000</td>\n",
       "      <td>0.038462</td>\n",
       "      <td>0.019231</td>\n",
       "      <td>0.076923</td>\n",
       "    </tr>\n",
       "    <tr>\n",
       "      <th>90</th>\n",
       "      <td>Qatar</td>\n",
       "      <td>0.000000</td>\n",
       "      <td>0.000000</td>\n",
       "      <td>0.020408</td>\n",
       "      <td>0.006897</td>\n",
       "      <td>0.040816</td>\n",
       "    </tr>\n",
       "    <tr>\n",
       "      <th>91</th>\n",
       "      <td>Zambia</td>\n",
       "      <td>0.000000</td>\n",
       "      <td>0.000000</td>\n",
       "      <td>0.020408</td>\n",
       "      <td>0.006897</td>\n",
       "      <td>0.040816</td>\n",
       "    </tr>\n",
       "  </tbody>\n",
       "</table>\n",
       "<p>92 rows × 6 columns</p>\n",
       "</div>"
      ],
      "text/plain": [
       "                     NOC      Gold    Silver    Bronze     Total  \\\n",
       "0                  China  5.076111  3.350849  1.925100  3.435164   \n",
       "1          United States  3.326786  3.699681  4.251277  3.774641   \n",
       "2                 France  2.231972  4.212359  2.359547  2.937740   \n",
       "3                  Japan  1.998611  1.973538  1.641520  1.827522   \n",
       "4          Great Britain  1.491944  2.000393  2.876183  2.121701   \n",
       "..                   ...       ...       ...       ...       ...   \n",
       "87               Grenada  0.000000  0.000000  0.040816  0.013793   \n",
       "88  Refugee Olympic Team  0.000000  0.000000  0.038462  0.019231   \n",
       "89            Cape Verde  0.000000  0.000000  0.038462  0.019231   \n",
       "90                 Qatar  0.000000  0.000000  0.020408  0.006897   \n",
       "91                Zambia  0.000000  0.000000  0.020408  0.006897   \n",
       "\n",
       "    Weighted Score  \n",
       "0        68.014708  \n",
       "1        56.569141  \n",
       "2        43.888248  \n",
       "3        31.163304  \n",
       "4        28.673379  \n",
       "..             ...  \n",
       "87        0.081633  \n",
       "88        0.076923  \n",
       "89        0.076923  \n",
       "90        0.040816  \n",
       "91        0.040816  \n",
       "\n",
       "[92 rows x 6 columns]"
      ]
     },
     "execution_count": 8,
     "metadata": {},
     "output_type": "execute_result"
    }
   ],
   "source": [
    "data"
   ]
  },
  {
   "cell_type": "code",
   "execution_count": 9,
   "metadata": {},
   "outputs": [],
   "source": [
    "data.drop(data.loc[data['NOC'] == 'Individual Neutral Athletes'].index, inplace=True)"
   ]
  },
  {
   "cell_type": "code",
   "execution_count": 10,
   "metadata": {},
   "outputs": [
    {
     "data": {
      "text/html": [
       "<div>\n",
       "<style scoped>\n",
       "    .dataframe tbody tr th:only-of-type {\n",
       "        vertical-align: middle;\n",
       "    }\n",
       "\n",
       "    .dataframe tbody tr th {\n",
       "        vertical-align: top;\n",
       "    }\n",
       "\n",
       "    .dataframe thead th {\n",
       "        text-align: right;\n",
       "    }\n",
       "</style>\n",
       "<table border=\"1\" class=\"dataframe\">\n",
       "  <thead>\n",
       "    <tr style=\"text-align: right;\">\n",
       "      <th></th>\n",
       "      <th>Country Name</th>\n",
       "      <th>Series Name</th>\n",
       "      <th>2023 [YR2023]</th>\n",
       "    </tr>\n",
       "  </thead>\n",
       "  <tbody>\n",
       "    <tr>\n",
       "      <th>0</th>\n",
       "      <td>Afghanistan</td>\n",
       "      <td>GDP, PPP (current international $)</td>\n",
       "      <td>..</td>\n",
       "    </tr>\n",
       "    <tr>\n",
       "      <th>1</th>\n",
       "      <td>Afghanistan</td>\n",
       "      <td>Population, total</td>\n",
       "      <td>42239854</td>\n",
       "    </tr>\n",
       "    <tr>\n",
       "      <th>2</th>\n",
       "      <td>Africa Eastern and Southern</td>\n",
       "      <td>GDP, PPP (current international $)</td>\n",
       "      <td>3.29625E+12</td>\n",
       "    </tr>\n",
       "    <tr>\n",
       "      <th>3</th>\n",
       "      <td>Africa Eastern and Southern</td>\n",
       "      <td>Population, total</td>\n",
       "      <td>739108306</td>\n",
       "    </tr>\n",
       "    <tr>\n",
       "      <th>4</th>\n",
       "      <td>Africa Western and Central</td>\n",
       "      <td>GDP, PPP (current international $)</td>\n",
       "      <td>2.70982E+12</td>\n",
       "    </tr>\n",
       "    <tr>\n",
       "      <th>...</th>\n",
       "      <td>...</td>\n",
       "      <td>...</td>\n",
       "      <td>...</td>\n",
       "    </tr>\n",
       "    <tr>\n",
       "      <th>529</th>\n",
       "      <td>Yemen, Rep.</td>\n",
       "      <td>Population, total</td>\n",
       "      <td>34449825</td>\n",
       "    </tr>\n",
       "    <tr>\n",
       "      <th>530</th>\n",
       "      <td>Zambia</td>\n",
       "      <td>GDP, PPP (current international $)</td>\n",
       "      <td>84863032638</td>\n",
       "    </tr>\n",
       "    <tr>\n",
       "      <th>531</th>\n",
       "      <td>Zambia</td>\n",
       "      <td>Population, total</td>\n",
       "      <td>20569737</td>\n",
       "    </tr>\n",
       "    <tr>\n",
       "      <th>532</th>\n",
       "      <td>Zimbabwe</td>\n",
       "      <td>GDP, PPP (current international $)</td>\n",
       "      <td>64993415785</td>\n",
       "    </tr>\n",
       "    <tr>\n",
       "      <th>533</th>\n",
       "      <td>Zimbabwe</td>\n",
       "      <td>Population, total</td>\n",
       "      <td>16665409</td>\n",
       "    </tr>\n",
       "  </tbody>\n",
       "</table>\n",
       "<p>534 rows × 3 columns</p>\n",
       "</div>"
      ],
      "text/plain": [
       "                    Country Name                         Series Name  \\\n",
       "0                    Afghanistan  GDP, PPP (current international $)   \n",
       "1                    Afghanistan                   Population, total   \n",
       "2    Africa Eastern and Southern  GDP, PPP (current international $)   \n",
       "3    Africa Eastern and Southern                   Population, total   \n",
       "4     Africa Western and Central  GDP, PPP (current international $)   \n",
       "..                           ...                                 ...   \n",
       "529                  Yemen, Rep.                   Population, total   \n",
       "530                       Zambia  GDP, PPP (current international $)   \n",
       "531                       Zambia                   Population, total   \n",
       "532                     Zimbabwe  GDP, PPP (current international $)   \n",
       "533                     Zimbabwe                   Population, total   \n",
       "\n",
       "    2023 [YR2023]  \n",
       "0              ..  \n",
       "1        42239854  \n",
       "2     3.29625E+12  \n",
       "3       739108306  \n",
       "4     2.70982E+12  \n",
       "..            ...  \n",
       "529      34449825  \n",
       "530   84863032638  \n",
       "531      20569737  \n",
       "532   64993415785  \n",
       "533      16665409  \n",
       "\n",
       "[534 rows x 3 columns]"
      ]
     },
     "execution_count": 10,
     "metadata": {},
     "output_type": "execute_result"
    }
   ],
   "source": [
    "# change this to total gdp, if you divide by per capita, you will multiply by the population\n",
    "# so divide by gdp and population (and HDI)\n",
    "# just replace file\n",
    "gdp = pd.read_csv('gdp_total_and_pop.csv')\n",
    "gdp"
   ]
  },
  {
   "cell_type": "code",
   "execution_count": 11,
   "metadata": {},
   "outputs": [],
   "source": [
    "gdp_ppp = gdp[gdp['Series Name'] == 'GDP, PPP (current international $)']\n",
    "population = gdp[gdp['Series Name'] == 'Population, total']"
   ]
  },
  {
   "cell_type": "code",
   "execution_count": 12,
   "metadata": {},
   "outputs": [
    {
     "data": {
      "text/html": [
       "<div>\n",
       "<style scoped>\n",
       "    .dataframe tbody tr th:only-of-type {\n",
       "        vertical-align: middle;\n",
       "    }\n",
       "\n",
       "    .dataframe tbody tr th {\n",
       "        vertical-align: top;\n",
       "    }\n",
       "\n",
       "    .dataframe thead th {\n",
       "        text-align: right;\n",
       "    }\n",
       "</style>\n",
       "<table border=\"1\" class=\"dataframe\">\n",
       "  <thead>\n",
       "    <tr style=\"text-align: right;\">\n",
       "      <th></th>\n",
       "      <th>Country Name</th>\n",
       "      <th>Series Name</th>\n",
       "      <th>2023 [YR2023]</th>\n",
       "    </tr>\n",
       "  </thead>\n",
       "  <tbody>\n",
       "    <tr>\n",
       "      <th>0</th>\n",
       "      <td>Afghanistan</td>\n",
       "      <td>GDP, PPP (current international $)</td>\n",
       "      <td>..</td>\n",
       "    </tr>\n",
       "    <tr>\n",
       "      <th>1</th>\n",
       "      <td>Africa Eastern and Southern</td>\n",
       "      <td>GDP, PPP (current international $)</td>\n",
       "      <td>3.29625E+12</td>\n",
       "    </tr>\n",
       "    <tr>\n",
       "      <th>2</th>\n",
       "      <td>Africa Western and Central</td>\n",
       "      <td>GDP, PPP (current international $)</td>\n",
       "      <td>2.70982E+12</td>\n",
       "    </tr>\n",
       "    <tr>\n",
       "      <th>3</th>\n",
       "      <td>Albania</td>\n",
       "      <td>GDP, PPP (current international $)</td>\n",
       "      <td>58750963483</td>\n",
       "    </tr>\n",
       "    <tr>\n",
       "      <th>4</th>\n",
       "      <td>Algeria</td>\n",
       "      <td>GDP, PPP (current international $)</td>\n",
       "      <td>7.7654E+11</td>\n",
       "    </tr>\n",
       "    <tr>\n",
       "      <th>...</th>\n",
       "      <td>...</td>\n",
       "      <td>...</td>\n",
       "      <td>...</td>\n",
       "    </tr>\n",
       "    <tr>\n",
       "      <th>261</th>\n",
       "      <td>West Bank and Gaza</td>\n",
       "      <td>GDP, PPP (current international $)</td>\n",
       "      <td>30418120122</td>\n",
       "    </tr>\n",
       "    <tr>\n",
       "      <th>262</th>\n",
       "      <td>World</td>\n",
       "      <td>GDP, PPP (current international $)</td>\n",
       "      <td>1.84654E+14</td>\n",
       "    </tr>\n",
       "    <tr>\n",
       "      <th>263</th>\n",
       "      <td>Yemen, Rep.</td>\n",
       "      <td>GDP, PPP (current international $)</td>\n",
       "      <td>..</td>\n",
       "    </tr>\n",
       "    <tr>\n",
       "      <th>264</th>\n",
       "      <td>Zambia</td>\n",
       "      <td>GDP, PPP (current international $)</td>\n",
       "      <td>84863032638</td>\n",
       "    </tr>\n",
       "    <tr>\n",
       "      <th>265</th>\n",
       "      <td>Zimbabwe</td>\n",
       "      <td>GDP, PPP (current international $)</td>\n",
       "      <td>64993415785</td>\n",
       "    </tr>\n",
       "  </tbody>\n",
       "</table>\n",
       "<p>266 rows × 3 columns</p>\n",
       "</div>"
      ],
      "text/plain": [
       "                    Country Name                         Series Name  \\\n",
       "0                    Afghanistan  GDP, PPP (current international $)   \n",
       "1    Africa Eastern and Southern  GDP, PPP (current international $)   \n",
       "2     Africa Western and Central  GDP, PPP (current international $)   \n",
       "3                        Albania  GDP, PPP (current international $)   \n",
       "4                        Algeria  GDP, PPP (current international $)   \n",
       "..                           ...                                 ...   \n",
       "261           West Bank and Gaza  GDP, PPP (current international $)   \n",
       "262                        World  GDP, PPP (current international $)   \n",
       "263                  Yemen, Rep.  GDP, PPP (current international $)   \n",
       "264                       Zambia  GDP, PPP (current international $)   \n",
       "265                     Zimbabwe  GDP, PPP (current international $)   \n",
       "\n",
       "    2023 [YR2023]  \n",
       "0              ..  \n",
       "1     3.29625E+12  \n",
       "2     2.70982E+12  \n",
       "3     58750963483  \n",
       "4      7.7654E+11  \n",
       "..            ...  \n",
       "261   30418120122  \n",
       "262   1.84654E+14  \n",
       "263            ..  \n",
       "264   84863032638  \n",
       "265   64993415785  \n",
       "\n",
       "[266 rows x 3 columns]"
      ]
     },
     "execution_count": 12,
     "metadata": {},
     "output_type": "execute_result"
    }
   ],
   "source": [
    "gdp_ppp.reset_index(inplace=True, drop=True)\n",
    "gdp_ppp"
   ]
  },
  {
   "cell_type": "code",
   "execution_count": 13,
   "metadata": {},
   "outputs": [
    {
     "data": {
      "text/html": [
       "<div>\n",
       "<style scoped>\n",
       "    .dataframe tbody tr th:only-of-type {\n",
       "        vertical-align: middle;\n",
       "    }\n",
       "\n",
       "    .dataframe tbody tr th {\n",
       "        vertical-align: top;\n",
       "    }\n",
       "\n",
       "    .dataframe thead th {\n",
       "        text-align: right;\n",
       "    }\n",
       "</style>\n",
       "<table border=\"1\" class=\"dataframe\">\n",
       "  <thead>\n",
       "    <tr style=\"text-align: right;\">\n",
       "      <th></th>\n",
       "      <th>Country Name</th>\n",
       "      <th>Series Name</th>\n",
       "      <th>2023 [YR2023]</th>\n",
       "    </tr>\n",
       "  </thead>\n",
       "  <tbody>\n",
       "    <tr>\n",
       "      <th>0</th>\n",
       "      <td>Afghanistan</td>\n",
       "      <td>Population, total</td>\n",
       "      <td>42239854</td>\n",
       "    </tr>\n",
       "    <tr>\n",
       "      <th>1</th>\n",
       "      <td>Africa Eastern and Southern</td>\n",
       "      <td>Population, total</td>\n",
       "      <td>739108306</td>\n",
       "    </tr>\n",
       "    <tr>\n",
       "      <th>2</th>\n",
       "      <td>Africa Western and Central</td>\n",
       "      <td>Population, total</td>\n",
       "      <td>502789511</td>\n",
       "    </tr>\n",
       "    <tr>\n",
       "      <th>3</th>\n",
       "      <td>Albania</td>\n",
       "      <td>Population, total</td>\n",
       "      <td>2745972</td>\n",
       "    </tr>\n",
       "    <tr>\n",
       "      <th>4</th>\n",
       "      <td>Algeria</td>\n",
       "      <td>Population, total</td>\n",
       "      <td>45606480</td>\n",
       "    </tr>\n",
       "    <tr>\n",
       "      <th>...</th>\n",
       "      <td>...</td>\n",
       "      <td>...</td>\n",
       "      <td>...</td>\n",
       "    </tr>\n",
       "    <tr>\n",
       "      <th>261</th>\n",
       "      <td>West Bank and Gaza</td>\n",
       "      <td>Population, total</td>\n",
       "      <td>5165775</td>\n",
       "    </tr>\n",
       "    <tr>\n",
       "      <th>262</th>\n",
       "      <td>World</td>\n",
       "      <td>Population, total</td>\n",
       "      <td>8024997028</td>\n",
       "    </tr>\n",
       "    <tr>\n",
       "      <th>263</th>\n",
       "      <td>Yemen, Rep.</td>\n",
       "      <td>Population, total</td>\n",
       "      <td>34449825</td>\n",
       "    </tr>\n",
       "    <tr>\n",
       "      <th>264</th>\n",
       "      <td>Zambia</td>\n",
       "      <td>Population, total</td>\n",
       "      <td>20569737</td>\n",
       "    </tr>\n",
       "    <tr>\n",
       "      <th>265</th>\n",
       "      <td>Zimbabwe</td>\n",
       "      <td>Population, total</td>\n",
       "      <td>16665409</td>\n",
       "    </tr>\n",
       "  </tbody>\n",
       "</table>\n",
       "<p>266 rows × 3 columns</p>\n",
       "</div>"
      ],
      "text/plain": [
       "                    Country Name        Series Name 2023 [YR2023]\n",
       "0                    Afghanistan  Population, total      42239854\n",
       "1    Africa Eastern and Southern  Population, total     739108306\n",
       "2     Africa Western and Central  Population, total     502789511\n",
       "3                        Albania  Population, total       2745972\n",
       "4                        Algeria  Population, total      45606480\n",
       "..                           ...                ...           ...\n",
       "261           West Bank and Gaza  Population, total       5165775\n",
       "262                        World  Population, total    8024997028\n",
       "263                  Yemen, Rep.  Population, total      34449825\n",
       "264                       Zambia  Population, total      20569737\n",
       "265                     Zimbabwe  Population, total      16665409\n",
       "\n",
       "[266 rows x 3 columns]"
      ]
     },
     "execution_count": 13,
     "metadata": {},
     "output_type": "execute_result"
    }
   ],
   "source": [
    "population.reset_index(inplace=True, drop=True)\n",
    "population"
   ]
  },
  {
   "cell_type": "code",
   "execution_count": 14,
   "metadata": {},
   "outputs": [
    {
     "data": {
      "text/plain": [
       "0                    China\n",
       "1            United States\n",
       "2                   France\n",
       "3                    Japan\n",
       "4            Great Britain\n",
       "              ...         \n",
       "87                 Grenada\n",
       "88    Refugee Olympic Team\n",
       "89              Cape Verde\n",
       "90                   Qatar\n",
       "91                  Zambia\n",
       "Name: NOC, Length: 91, dtype: object"
      ]
     },
     "execution_count": 14,
     "metadata": {},
     "output_type": "execute_result"
    }
   ],
   "source": [
    "countries = data['NOC']\n",
    "countries"
   ]
  },
  {
   "cell_type": "code",
   "execution_count": 15,
   "metadata": {},
   "outputs": [],
   "source": [
    "gdp_countries = gdp_ppp['Country Name']"
   ]
  },
  {
   "cell_type": "code",
   "execution_count": 16,
   "metadata": {},
   "outputs": [
    {
     "name": "stdout",
     "output_type": "stream",
     "text": [
      "Great Britain\n",
      "South Korea\n",
      "Egypt\n",
      "Iran\n",
      "Czech Republic\n",
      "Chinese Taipei\n",
      "Hong Kong\n",
      "North Korea\n",
      "Turkey\n",
      "Kyrgyzstan\n",
      "Saint Lucia\n",
      "Ivory Coast\n",
      "Slovakia\n",
      "Refugee Olympic Team\n",
      "Cape Verde\n"
     ]
    }
   ],
   "source": [
    "missing_gdp = []\n",
    "for c in countries:\n",
    "    if c not in gdp_countries.values:\n",
    "        print(c)\n",
    "        missing_gdp.append(c)"
   ]
  },
  {
   "cell_type": "code",
   "execution_count": 17,
   "metadata": {},
   "outputs": [
    {
     "data": {
      "text/plain": [
       "Country Name                   Hong Kong SAR, China\n",
       "Series Name      GDP, PPP (current international $)\n",
       "2023 [YR2023]                           5.38692E+11\n",
       "Name: 103, dtype: object"
      ]
     },
     "execution_count": 17,
     "metadata": {},
     "output_type": "execute_result"
    }
   ],
   "source": [
    "gdp_ppp.iloc[103]"
   ]
  },
  {
   "cell_type": "code",
   "execution_count": 18,
   "metadata": {},
   "outputs": [],
   "source": [
    "gdp_ppp.at[252, 'Country Name'] = 'Great Britain'\n",
    "gdp_ppp.at[125, 'Country Name'] = 'North Korea'\n",
    "gdp_ppp.at[126, 'Country Name'] = 'South Korea'\n",
    "gdp_ppp.at[67, 'Country Name'] = 'Egypt'\n",
    "gdp_ppp.at[113, 'Country Name'] = 'Iran'\n",
    "gdp_ppp.at[57, 'Country Name'] = 'Czech Republic'\n",
    "# No data for Chinese Taipei/Taiwan\n",
    "gdp_ppp.at[103, 'Country Name'] = 'Hong Kong'\n",
    "gdp_ppp.at[245, 'Country Name'] = 'Turkey'\n",
    "gdp_ppp.at[129, 'Country Name'] = 'Kyrgyzstan'\n",
    "gdp_ppp.at[226, 'Country Name'] = 'Saint Lucia'\n",
    "gdp_ppp.at[52, 'Country Name'] = 'Ivory Coast'\n",
    "gdp_ppp.at[214, 'Country Name'] = 'Slovakia'\n",
    "# Refugee Olympic Team will get minimum GDP\n",
    "gdp_ppp.at[35, 'Country Name'] = 'Cape Verde'\n",
    "\n",
    "population.at[252, 'Country Name'] = 'Great Britain'\n",
    "population.at[125, 'Country Name'] = 'North Korea'\n",
    "population.at[126, 'Country Name'] = 'South Korea'\n",
    "population.at[67, 'Country Name'] = 'Egypt'\n",
    "population.at[113, 'Country Name'] = 'Iran'\n",
    "population.at[57, 'Country Name'] = 'Czech Republic'\n",
    "# No data for Chinese Taipei/Taiwan\n",
    "population.at[103, 'Country Name'] = 'Hong Kong'\n",
    "population.at[245, 'Country Name'] = 'Turkey'\n",
    "population.at[129, 'Country Name'] = 'Kyrgyzstan'\n",
    "population.at[226, 'Country Name'] = 'Saint Lucia'\n",
    "population.at[52, 'Country Name'] = 'Ivory Coast'\n",
    "population.at[214, 'Country Name'] = 'Slovakia'\n",
    "# Refugee Olympic Team will get minimum population\n",
    "population.at[35, 'Country Name'] = 'Cape Verde'"
   ]
  },
  {
   "cell_type": "code",
   "execution_count": 19,
   "metadata": {},
   "outputs": [
    {
     "name": "stdout",
     "output_type": "stream",
     "text": [
      "Chinese Taipei\n",
      "Refugee Olympic Team\n"
     ]
    }
   ],
   "source": [
    "gdp_countries = gdp_ppp['Country Name']\n",
    "missing_gdp = []\n",
    "for c in countries:\n",
    "    if c not in gdp_countries.values:\n",
    "        print(c)\n",
    "        missing_gdp.append(c)"
   ]
  },
  {
   "cell_type": "code",
   "execution_count": 20,
   "metadata": {},
   "outputs": [
    {
     "name": "stdout",
     "output_type": "stream",
     "text": [
      "Requirement already satisfied: openpyxl in c:\\python311\\lib\\site-packages (3.1.5)\n",
      "Requirement already satisfied: et-xmlfile in c:\\python311\\lib\\site-packages (from openpyxl) (1.1.0)\n"
     ]
    },
    {
     "name": "stderr",
     "output_type": "stream",
     "text": [
      "\n",
      "[notice] A new release of pip is available: 23.1.2 -> 24.2\n",
      "[notice] To update, run: python.exe -m pip install --upgrade pip\n"
     ]
    }
   ],
   "source": [
    "!pip install openpyxl"
   ]
  },
  {
   "cell_type": "code",
   "execution_count": 21,
   "metadata": {},
   "outputs": [
    {
     "data": {
      "text/html": [
       "<div>\n",
       "<style scoped>\n",
       "    .dataframe tbody tr th:only-of-type {\n",
       "        vertical-align: middle;\n",
       "    }\n",
       "\n",
       "    .dataframe tbody tr th {\n",
       "        vertical-align: top;\n",
       "    }\n",
       "\n",
       "    .dataframe thead th {\n",
       "        text-align: right;\n",
       "    }\n",
       "</style>\n",
       "<table border=\"1\" class=\"dataframe\">\n",
       "  <thead>\n",
       "    <tr style=\"text-align: right;\">\n",
       "      <th></th>\n",
       "      <th>Country</th>\n",
       "      <th>Value</th>\n",
       "    </tr>\n",
       "  </thead>\n",
       "  <tbody>\n",
       "    <tr>\n",
       "      <th>0</th>\n",
       "      <td>Switzerland</td>\n",
       "      <td>0.967</td>\n",
       "    </tr>\n",
       "    <tr>\n",
       "      <th>1</th>\n",
       "      <td>Norway</td>\n",
       "      <td>0.966</td>\n",
       "    </tr>\n",
       "    <tr>\n",
       "      <th>2</th>\n",
       "      <td>Iceland</td>\n",
       "      <td>0.959</td>\n",
       "    </tr>\n",
       "    <tr>\n",
       "      <th>3</th>\n",
       "      <td>Hong Kong, China (SAR)</td>\n",
       "      <td>0.956</td>\n",
       "    </tr>\n",
       "    <tr>\n",
       "      <th>4</th>\n",
       "      <td>Denmark</td>\n",
       "      <td>0.952</td>\n",
       "    </tr>\n",
       "    <tr>\n",
       "      <th>...</th>\n",
       "      <td>...</td>\n",
       "      <td>...</td>\n",
       "    </tr>\n",
       "    <tr>\n",
       "      <th>188</th>\n",
       "      <td>Chad</td>\n",
       "      <td>0.394</td>\n",
       "    </tr>\n",
       "    <tr>\n",
       "      <th>189</th>\n",
       "      <td>Niger</td>\n",
       "      <td>0.394</td>\n",
       "    </tr>\n",
       "    <tr>\n",
       "      <th>190</th>\n",
       "      <td>Central African Republic</td>\n",
       "      <td>0.387</td>\n",
       "    </tr>\n",
       "    <tr>\n",
       "      <th>191</th>\n",
       "      <td>South Sudan</td>\n",
       "      <td>0.381</td>\n",
       "    </tr>\n",
       "    <tr>\n",
       "      <th>192</th>\n",
       "      <td>Somalia</td>\n",
       "      <td>0.380</td>\n",
       "    </tr>\n",
       "  </tbody>\n",
       "</table>\n",
       "<p>193 rows × 2 columns</p>\n",
       "</div>"
      ],
      "text/plain": [
       "                      Country  Value\n",
       "0                 Switzerland  0.967\n",
       "1                      Norway  0.966\n",
       "2                     Iceland  0.959\n",
       "3      Hong Kong, China (SAR)  0.956\n",
       "4                     Denmark  0.952\n",
       "..                        ...    ...\n",
       "188                      Chad  0.394\n",
       "189                     Niger  0.394\n",
       "190  Central African Republic  0.387\n",
       "191               South Sudan  0.381\n",
       "192                   Somalia  0.380\n",
       "\n",
       "[193 rows x 2 columns]"
      ]
     },
     "execution_count": 21,
     "metadata": {},
     "output_type": "execute_result"
    }
   ],
   "source": [
    "hdi = pd.read_excel('HDR23-24_Statistical_Annex_HDI_Table.xlsx')\n",
    "hdi.drop(columns=['HDI rank'], inplace=True)\n",
    "hdi"
   ]
  },
  {
   "cell_type": "code",
   "execution_count": 22,
   "metadata": {},
   "outputs": [
    {
     "name": "stdout",
     "output_type": "stream",
     "text": [
      "Great Britain\n",
      "South Korea\n",
      "Iran\n",
      "Czech Republic\n",
      "Chinese Taipei\n",
      "Hong Kong\n",
      "North Korea\n",
      "Turkey\n",
      "Moldova\n",
      "Kosovo\n",
      "Ivory Coast\n",
      "Puerto Rico\n",
      "Refugee Olympic Team\n",
      "Cape Verde\n"
     ]
    }
   ],
   "source": [
    "hdi_countries = hdi['Country']\n",
    "missing_hdi = []\n",
    "for c in countries:\n",
    "    if c not in hdi_countries.values:\n",
    "        print(c)\n",
    "        missing_hdi.append(c)"
   ]
  },
  {
   "cell_type": "code",
   "execution_count": 23,
   "metadata": {},
   "outputs": [
    {
     "data": {
      "text/plain": [
       "Country    Cabo Verde\n",
       "Value           0.661\n",
       "Name: 130, dtype: object"
      ]
     },
     "execution_count": 23,
     "metadata": {},
     "output_type": "execute_result"
    }
   ],
   "source": [
    "hdi.iloc[130]"
   ]
  },
  {
   "cell_type": "code",
   "execution_count": 24,
   "metadata": {},
   "outputs": [],
   "source": [
    "hdi.at[14, 'Country'] = 'Great Britain'\n",
    "hdi.at[18, 'Country'] = 'South Korea'\n",
    "hdi.at[77, 'Country'] = 'Iran'\n",
    "hdi.at[31, 'Country'] = 'Czech Republic'\n",
    "# no data for Chinese Taipei/Taiwan\n",
    "hdi.at[3, 'Country'] = 'Hong Kong'\n",
    "# no data for North Korea\n",
    "hdi.at[45, 'Country'] = 'Turkey'\n",
    "hdi.at[85, 'Country'] = 'Moldova'\n",
    "# no data for Kosovo\n",
    "hdi.at[165, 'Country'] = 'Ivory Coast'\n",
    "# no data for Puerto Rico\n",
    "# no data for Refugee Olympic Team, will get lowest\n",
    "hdi.at[130, 'Country'] = 'Cape Verde'"
   ]
  },
  {
   "cell_type": "code",
   "execution_count": 25,
   "metadata": {},
   "outputs": [
    {
     "data": {
      "text/html": [
       "<div>\n",
       "<style scoped>\n",
       "    .dataframe tbody tr th:only-of-type {\n",
       "        vertical-align: middle;\n",
       "    }\n",
       "\n",
       "    .dataframe tbody tr th {\n",
       "        vertical-align: top;\n",
       "    }\n",
       "\n",
       "    .dataframe thead th {\n",
       "        text-align: right;\n",
       "    }\n",
       "</style>\n",
       "<table border=\"1\" class=\"dataframe\">\n",
       "  <thead>\n",
       "    <tr style=\"text-align: right;\">\n",
       "      <th></th>\n",
       "      <th>NOC</th>\n",
       "      <th>Gold</th>\n",
       "      <th>Silver</th>\n",
       "      <th>Bronze</th>\n",
       "      <th>Total</th>\n",
       "      <th>Weighted Score</th>\n",
       "      <th>GDP (PPP)</th>\n",
       "      <th>Population</th>\n",
       "      <th>HDI</th>\n",
       "    </tr>\n",
       "  </thead>\n",
       "  <tbody>\n",
       "    <tr>\n",
       "      <th>0</th>\n",
       "      <td>China</td>\n",
       "      <td>5.076111</td>\n",
       "      <td>3.350849</td>\n",
       "      <td>1.925100</td>\n",
       "      <td>3.435164</td>\n",
       "      <td>68.014708</td>\n",
       "      <td>3.46437E+13</td>\n",
       "      <td>1410710000</td>\n",
       "      <td>0.788</td>\n",
       "    </tr>\n",
       "    <tr>\n",
       "      <th>1</th>\n",
       "      <td>United States</td>\n",
       "      <td>3.326786</td>\n",
       "      <td>3.699681</td>\n",
       "      <td>4.251277</td>\n",
       "      <td>3.774641</td>\n",
       "      <td>56.569141</td>\n",
       "      <td>2.73609E+13</td>\n",
       "      <td>334914895</td>\n",
       "      <td>0.927</td>\n",
       "    </tr>\n",
       "    <tr>\n",
       "      <th>2</th>\n",
       "      <td>France</td>\n",
       "      <td>2.231972</td>\n",
       "      <td>4.212359</td>\n",
       "      <td>2.359547</td>\n",
       "      <td>2.937740</td>\n",
       "      <td>43.888248</td>\n",
       "      <td>4.16907E+12</td>\n",
       "      <td>68170228</td>\n",
       "      <td>0.910</td>\n",
       "    </tr>\n",
       "    <tr>\n",
       "      <th>3</th>\n",
       "      <td>Japan</td>\n",
       "      <td>1.998611</td>\n",
       "      <td>1.973538</td>\n",
       "      <td>1.641520</td>\n",
       "      <td>1.827522</td>\n",
       "      <td>31.163304</td>\n",
       "      <td>6.25156E+12</td>\n",
       "      <td>124516650</td>\n",
       "      <td>0.920</td>\n",
       "    </tr>\n",
       "    <tr>\n",
       "      <th>4</th>\n",
       "      <td>Great Britain</td>\n",
       "      <td>1.491944</td>\n",
       "      <td>2.000393</td>\n",
       "      <td>2.876183</td>\n",
       "      <td>2.121701</td>\n",
       "      <td>28.673379</td>\n",
       "      <td>4.02624E+12</td>\n",
       "      <td>68350000</td>\n",
       "      <td>0.940</td>\n",
       "    </tr>\n",
       "    <tr>\n",
       "      <th>...</th>\n",
       "      <td>...</td>\n",
       "      <td>...</td>\n",
       "      <td>...</td>\n",
       "      <td>...</td>\n",
       "      <td>...</td>\n",
       "      <td>...</td>\n",
       "      <td>...</td>\n",
       "      <td>...</td>\n",
       "      <td>...</td>\n",
       "    </tr>\n",
       "    <tr>\n",
       "      <th>86</th>\n",
       "      <td>Grenada</td>\n",
       "      <td>0.000000</td>\n",
       "      <td>0.000000</td>\n",
       "      <td>0.040816</td>\n",
       "      <td>0.013793</td>\n",
       "      <td>0.081633</td>\n",
       "      <td>2227647009</td>\n",
       "      <td>126183</td>\n",
       "      <td>0.793</td>\n",
       "    </tr>\n",
       "    <tr>\n",
       "      <th>87</th>\n",
       "      <td>Refugee Olympic Team</td>\n",
       "      <td>0.000000</td>\n",
       "      <td>0.000000</td>\n",
       "      <td>0.038462</td>\n",
       "      <td>0.019231</td>\n",
       "      <td>0.076923</td>\n",
       "      <td>NaN</td>\n",
       "      <td>NaN</td>\n",
       "      <td>NaN</td>\n",
       "    </tr>\n",
       "    <tr>\n",
       "      <th>88</th>\n",
       "      <td>Cape Verde</td>\n",
       "      <td>0.000000</td>\n",
       "      <td>0.000000</td>\n",
       "      <td>0.038462</td>\n",
       "      <td>0.019231</td>\n",
       "      <td>0.076923</td>\n",
       "      <td>5439764468</td>\n",
       "      <td>598682</td>\n",
       "      <td>0.661</td>\n",
       "    </tr>\n",
       "    <tr>\n",
       "      <th>89</th>\n",
       "      <td>Qatar</td>\n",
       "      <td>0.000000</td>\n",
       "      <td>0.000000</td>\n",
       "      <td>0.020408</td>\n",
       "      <td>0.006897</td>\n",
       "      <td>0.040816</td>\n",
       "      <td>..</td>\n",
       "      <td>2716391</td>\n",
       "      <td>0.875</td>\n",
       "    </tr>\n",
       "    <tr>\n",
       "      <th>90</th>\n",
       "      <td>Zambia</td>\n",
       "      <td>0.000000</td>\n",
       "      <td>0.000000</td>\n",
       "      <td>0.020408</td>\n",
       "      <td>0.006897</td>\n",
       "      <td>0.040816</td>\n",
       "      <td>84863032638</td>\n",
       "      <td>20569737</td>\n",
       "      <td>0.569</td>\n",
       "    </tr>\n",
       "  </tbody>\n",
       "</table>\n",
       "<p>91 rows × 9 columns</p>\n",
       "</div>"
      ],
      "text/plain": [
       "                     NOC      Gold    Silver    Bronze     Total  \\\n",
       "0                  China  5.076111  3.350849  1.925100  3.435164   \n",
       "1          United States  3.326786  3.699681  4.251277  3.774641   \n",
       "2                 France  2.231972  4.212359  2.359547  2.937740   \n",
       "3                  Japan  1.998611  1.973538  1.641520  1.827522   \n",
       "4          Great Britain  1.491944  2.000393  2.876183  2.121701   \n",
       "..                   ...       ...       ...       ...       ...   \n",
       "86               Grenada  0.000000  0.000000  0.040816  0.013793   \n",
       "87  Refugee Olympic Team  0.000000  0.000000  0.038462  0.019231   \n",
       "88            Cape Verde  0.000000  0.000000  0.038462  0.019231   \n",
       "89                 Qatar  0.000000  0.000000  0.020408  0.006897   \n",
       "90                Zambia  0.000000  0.000000  0.020408  0.006897   \n",
       "\n",
       "    Weighted Score    GDP (PPP)  Population    HDI  \n",
       "0        68.014708  3.46437E+13  1410710000  0.788  \n",
       "1        56.569141  2.73609E+13   334914895  0.927  \n",
       "2        43.888248  4.16907E+12    68170228  0.910  \n",
       "3        31.163304  6.25156E+12   124516650  0.920  \n",
       "4        28.673379  4.02624E+12    68350000  0.940  \n",
       "..             ...          ...         ...    ...  \n",
       "86        0.081633   2227647009      126183  0.793  \n",
       "87        0.076923          NaN         NaN    NaN  \n",
       "88        0.076923   5439764468      598682  0.661  \n",
       "89        0.040816           ..     2716391  0.875  \n",
       "90        0.040816  84863032638    20569737  0.569  \n",
       "\n",
       "[91 rows x 9 columns]"
      ]
     },
     "execution_count": 25,
     "metadata": {},
     "output_type": "execute_result"
    }
   ],
   "source": [
    "# Merge GDP (PPP) data\n",
    "data = data.merge(gdp_ppp[['Country Name', '2023 [YR2023]']], left_on='NOC', right_on='Country Name', how='left')\n",
    "data.rename(columns={'2023 [YR2023]': 'GDP (PPP)'}, inplace=True)\n",
    "\n",
    "# Merge population data\n",
    "data = data.merge(population[['Country Name', '2023 [YR2023]']], left_on='NOC', right_on='Country Name', how='left')\n",
    "data.rename(columns={'2023 [YR2023]': 'Population'}, inplace=True)\n",
    "\n",
    "# Merge HDI data\n",
    "data = data.merge(hdi[['Country', 'Value']], left_on='NOC', right_on='Country', how='left')\n",
    "data.rename(columns={'Value': 'HDI'}, inplace=True)\n",
    "\n",
    "# Drop unnecessary columns\n",
    "data.drop(columns=['Country Name_x', 'Country Name_y', 'Country'], inplace=True)\n",
    "\n",
    "# Print the updated data\n",
    "data"
   ]
  },
  {
   "cell_type": "code",
   "execution_count": 26,
   "metadata": {},
   "outputs": [
    {
     "data": {
      "text/html": [
       "<div>\n",
       "<style scoped>\n",
       "    .dataframe tbody tr th:only-of-type {\n",
       "        vertical-align: middle;\n",
       "    }\n",
       "\n",
       "    .dataframe tbody tr th {\n",
       "        vertical-align: top;\n",
       "    }\n",
       "\n",
       "    .dataframe thead th {\n",
       "        text-align: right;\n",
       "    }\n",
       "</style>\n",
       "<table border=\"1\" class=\"dataframe\">\n",
       "  <thead>\n",
       "    <tr style=\"text-align: right;\">\n",
       "      <th></th>\n",
       "      <th>NOC</th>\n",
       "      <th>Gold</th>\n",
       "      <th>Silver</th>\n",
       "      <th>Bronze</th>\n",
       "      <th>Total</th>\n",
       "      <th>Weighted Score</th>\n",
       "      <th>GDP (PPP)</th>\n",
       "      <th>Population</th>\n",
       "      <th>HDI</th>\n",
       "    </tr>\n",
       "  </thead>\n",
       "  <tbody>\n",
       "    <tr>\n",
       "      <th>28</th>\n",
       "      <td>Chinese Taipei</td>\n",
       "      <td>0.276923</td>\n",
       "      <td>0.000000</td>\n",
       "      <td>0.296221</td>\n",
       "      <td>0.198096</td>\n",
       "      <td>3.361673</td>\n",
       "      <td>NaN</td>\n",
       "      <td>NaN</td>\n",
       "      <td>NaN</td>\n",
       "    </tr>\n",
       "    <tr>\n",
       "      <th>43</th>\n",
       "      <td>North Korea</td>\n",
       "      <td>0.000000</td>\n",
       "      <td>0.325000</td>\n",
       "      <td>0.219017</td>\n",
       "      <td>0.197009</td>\n",
       "      <td>1.738034</td>\n",
       "      <td>..</td>\n",
       "      <td>26160821</td>\n",
       "      <td>NaN</td>\n",
       "    </tr>\n",
       "    <tr>\n",
       "      <th>71</th>\n",
       "      <td>Kosovo</td>\n",
       "      <td>0.000000</td>\n",
       "      <td>0.066667</td>\n",
       "      <td>0.033333</td>\n",
       "      <td>0.033333</td>\n",
       "      <td>0.333333</td>\n",
       "      <td>26397157993</td>\n",
       "      <td>1756374</td>\n",
       "      <td>NaN</td>\n",
       "    </tr>\n",
       "    <tr>\n",
       "      <th>85</th>\n",
       "      <td>Puerto Rico</td>\n",
       "      <td>0.000000</td>\n",
       "      <td>0.000000</td>\n",
       "      <td>0.048186</td>\n",
       "      <td>0.020785</td>\n",
       "      <td>0.096372</td>\n",
       "      <td>1.5291E+11</td>\n",
       "      <td>3205691</td>\n",
       "      <td>NaN</td>\n",
       "    </tr>\n",
       "    <tr>\n",
       "      <th>87</th>\n",
       "      <td>Refugee Olympic Team</td>\n",
       "      <td>0.000000</td>\n",
       "      <td>0.000000</td>\n",
       "      <td>0.038462</td>\n",
       "      <td>0.019231</td>\n",
       "      <td>0.076923</td>\n",
       "      <td>NaN</td>\n",
       "      <td>NaN</td>\n",
       "      <td>NaN</td>\n",
       "    </tr>\n",
       "  </tbody>\n",
       "</table>\n",
       "</div>"
      ],
      "text/plain": [
       "                     NOC      Gold    Silver    Bronze     Total  \\\n",
       "28        Chinese Taipei  0.276923  0.000000  0.296221  0.198096   \n",
       "43           North Korea  0.000000  0.325000  0.219017  0.197009   \n",
       "71                Kosovo  0.000000  0.066667  0.033333  0.033333   \n",
       "85           Puerto Rico  0.000000  0.000000  0.048186  0.020785   \n",
       "87  Refugee Olympic Team  0.000000  0.000000  0.038462  0.019231   \n",
       "\n",
       "    Weighted Score    GDP (PPP) Population  HDI  \n",
       "28        3.361673          NaN        NaN  NaN  \n",
       "43        1.738034           ..   26160821  NaN  \n",
       "71        0.333333  26397157993    1756374  NaN  \n",
       "85        0.096372   1.5291E+11    3205691  NaN  \n",
       "87        0.076923          NaN        NaN  NaN  "
      ]
     },
     "execution_count": 26,
     "metadata": {},
     "output_type": "execute_result"
    }
   ],
   "source": [
    "data[data.isna().any(axis=1)]"
   ]
  },
  {
   "cell_type": "code",
   "execution_count": 27,
   "metadata": {},
   "outputs": [],
   "source": [
    "data['Population'] = data['Population'].astype(float)\n",
    "data['GDP (PPP)'] = pd.to_numeric(data['GDP (PPP)'], errors='coerce')"
   ]
  },
  {
   "cell_type": "code",
   "execution_count": 28,
   "metadata": {},
   "outputs": [],
   "source": [
    "# taiwan\n",
    "data.at[28, 'HDI'] = 0.926\n",
    "data.at[28, 'Population'] = 23196178\n",
    "data.at[28, 'GDP (PPP)'] = 1.77e12\n",
    "\n",
    "# north korea\n",
    "data.at[43, 'GDP (PPP)'] = 300e9\n",
    "# give average value for HDI\n",
    "data.at[43, 'HDI'] = hdi['Value'].mean()\n",
    "\n",
    "# kosovo\n",
    "data.at[71, 'HDI'] = 0.762\n",
    "\n",
    "# puerto rico\n",
    "data.at[85, 'HDI'] = 0.880\n",
    "\n",
    "# refugee olympic team\n",
    "# give minimum hdi\n",
    "data.at[87, 'HDI'] = hdi['Value'].min()\n",
    "# give average population\n",
    "data.at[87, 'Population'] = data['Population'].mean()\n",
    "# give minimum gdp\n",
    "data.at[87, 'GDP (PPP)'] = data['GDP (PPP)'].min()\n",
    "\n",
    "# cuba\n",
    "data.at[39, 'GDP (PPP)'] = 810544740108\n",
    "\n",
    "# qatar\n",
    "data.at[89, 'GDP (PPP)'] = 337.52e9"
   ]
  },
  {
   "cell_type": "code",
   "execution_count": 29,
   "metadata": {},
   "outputs": [
    {
     "data": {
      "text/html": [
       "<div>\n",
       "<style scoped>\n",
       "    .dataframe tbody tr th:only-of-type {\n",
       "        vertical-align: middle;\n",
       "    }\n",
       "\n",
       "    .dataframe tbody tr th {\n",
       "        vertical-align: top;\n",
       "    }\n",
       "\n",
       "    .dataframe thead th {\n",
       "        text-align: right;\n",
       "    }\n",
       "</style>\n",
       "<table border=\"1\" class=\"dataframe\">\n",
       "  <thead>\n",
       "    <tr style=\"text-align: right;\">\n",
       "      <th></th>\n",
       "      <th>NOC</th>\n",
       "      <th>Gold</th>\n",
       "      <th>Silver</th>\n",
       "      <th>Bronze</th>\n",
       "      <th>Total</th>\n",
       "      <th>Weighted Score</th>\n",
       "      <th>GDP (PPP)</th>\n",
       "      <th>Population</th>\n",
       "      <th>HDI</th>\n",
       "    </tr>\n",
       "  </thead>\n",
       "  <tbody>\n",
       "    <tr>\n",
       "      <th>0</th>\n",
       "      <td>China</td>\n",
       "      <td>5.076111</td>\n",
       "      <td>3.350849</td>\n",
       "      <td>1.925100</td>\n",
       "      <td>3.435164</td>\n",
       "      <td>68.014708</td>\n",
       "      <td>3.464370e+13</td>\n",
       "      <td>1.410710e+09</td>\n",
       "      <td>0.788</td>\n",
       "    </tr>\n",
       "    <tr>\n",
       "      <th>1</th>\n",
       "      <td>United States</td>\n",
       "      <td>3.326786</td>\n",
       "      <td>3.699681</td>\n",
       "      <td>4.251277</td>\n",
       "      <td>3.774641</td>\n",
       "      <td>56.569141</td>\n",
       "      <td>2.736090e+13</td>\n",
       "      <td>3.349149e+08</td>\n",
       "      <td>0.927</td>\n",
       "    </tr>\n",
       "    <tr>\n",
       "      <th>2</th>\n",
       "      <td>France</td>\n",
       "      <td>2.231972</td>\n",
       "      <td>4.212359</td>\n",
       "      <td>2.359547</td>\n",
       "      <td>2.937740</td>\n",
       "      <td>43.888248</td>\n",
       "      <td>4.169070e+12</td>\n",
       "      <td>6.817023e+07</td>\n",
       "      <td>0.910</td>\n",
       "    </tr>\n",
       "    <tr>\n",
       "      <th>3</th>\n",
       "      <td>Japan</td>\n",
       "      <td>1.998611</td>\n",
       "      <td>1.973538</td>\n",
       "      <td>1.641520</td>\n",
       "      <td>1.827522</td>\n",
       "      <td>31.163304</td>\n",
       "      <td>6.251560e+12</td>\n",
       "      <td>1.245166e+08</td>\n",
       "      <td>0.920</td>\n",
       "    </tr>\n",
       "    <tr>\n",
       "      <th>4</th>\n",
       "      <td>Great Britain</td>\n",
       "      <td>1.491944</td>\n",
       "      <td>2.000393</td>\n",
       "      <td>2.876183</td>\n",
       "      <td>2.121701</td>\n",
       "      <td>28.673379</td>\n",
       "      <td>4.026240e+12</td>\n",
       "      <td>6.835000e+07</td>\n",
       "      <td>0.940</td>\n",
       "    </tr>\n",
       "    <tr>\n",
       "      <th>...</th>\n",
       "      <td>...</td>\n",
       "      <td>...</td>\n",
       "      <td>...</td>\n",
       "      <td>...</td>\n",
       "      <td>...</td>\n",
       "      <td>...</td>\n",
       "      <td>...</td>\n",
       "      <td>...</td>\n",
       "      <td>...</td>\n",
       "    </tr>\n",
       "    <tr>\n",
       "      <th>86</th>\n",
       "      <td>Grenada</td>\n",
       "      <td>0.000000</td>\n",
       "      <td>0.000000</td>\n",
       "      <td>0.040816</td>\n",
       "      <td>0.013793</td>\n",
       "      <td>0.081633</td>\n",
       "      <td>2.227647e+09</td>\n",
       "      <td>1.261830e+05</td>\n",
       "      <td>0.793</td>\n",
       "    </tr>\n",
       "    <tr>\n",
       "      <th>87</th>\n",
       "      <td>Refugee Olympic Team</td>\n",
       "      <td>0.000000</td>\n",
       "      <td>0.000000</td>\n",
       "      <td>0.038462</td>\n",
       "      <td>0.019231</td>\n",
       "      <td>0.076923</td>\n",
       "      <td>1.285405e+09</td>\n",
       "      <td>6.902907e+07</td>\n",
       "      <td>0.380</td>\n",
       "    </tr>\n",
       "    <tr>\n",
       "      <th>88</th>\n",
       "      <td>Cape Verde</td>\n",
       "      <td>0.000000</td>\n",
       "      <td>0.000000</td>\n",
       "      <td>0.038462</td>\n",
       "      <td>0.019231</td>\n",
       "      <td>0.076923</td>\n",
       "      <td>5.439764e+09</td>\n",
       "      <td>5.986820e+05</td>\n",
       "      <td>0.661</td>\n",
       "    </tr>\n",
       "    <tr>\n",
       "      <th>89</th>\n",
       "      <td>Qatar</td>\n",
       "      <td>0.000000</td>\n",
       "      <td>0.000000</td>\n",
       "      <td>0.020408</td>\n",
       "      <td>0.006897</td>\n",
       "      <td>0.040816</td>\n",
       "      <td>3.375200e+11</td>\n",
       "      <td>2.716391e+06</td>\n",
       "      <td>0.875</td>\n",
       "    </tr>\n",
       "    <tr>\n",
       "      <th>90</th>\n",
       "      <td>Zambia</td>\n",
       "      <td>0.000000</td>\n",
       "      <td>0.000000</td>\n",
       "      <td>0.020408</td>\n",
       "      <td>0.006897</td>\n",
       "      <td>0.040816</td>\n",
       "      <td>8.486303e+10</td>\n",
       "      <td>2.056974e+07</td>\n",
       "      <td>0.569</td>\n",
       "    </tr>\n",
       "  </tbody>\n",
       "</table>\n",
       "<p>91 rows × 9 columns</p>\n",
       "</div>"
      ],
      "text/plain": [
       "                     NOC      Gold    Silver    Bronze     Total  \\\n",
       "0                  China  5.076111  3.350849  1.925100  3.435164   \n",
       "1          United States  3.326786  3.699681  4.251277  3.774641   \n",
       "2                 France  2.231972  4.212359  2.359547  2.937740   \n",
       "3                  Japan  1.998611  1.973538  1.641520  1.827522   \n",
       "4          Great Britain  1.491944  2.000393  2.876183  2.121701   \n",
       "..                   ...       ...       ...       ...       ...   \n",
       "86               Grenada  0.000000  0.000000  0.040816  0.013793   \n",
       "87  Refugee Olympic Team  0.000000  0.000000  0.038462  0.019231   \n",
       "88            Cape Verde  0.000000  0.000000  0.038462  0.019231   \n",
       "89                 Qatar  0.000000  0.000000  0.020408  0.006897   \n",
       "90                Zambia  0.000000  0.000000  0.020408  0.006897   \n",
       "\n",
       "    Weighted Score     GDP (PPP)    Population    HDI  \n",
       "0        68.014708  3.464370e+13  1.410710e+09  0.788  \n",
       "1        56.569141  2.736090e+13  3.349149e+08  0.927  \n",
       "2        43.888248  4.169070e+12  6.817023e+07  0.910  \n",
       "3        31.163304  6.251560e+12  1.245166e+08  0.920  \n",
       "4        28.673379  4.026240e+12  6.835000e+07  0.940  \n",
       "..             ...           ...           ...    ...  \n",
       "86        0.081633  2.227647e+09  1.261830e+05  0.793  \n",
       "87        0.076923  1.285405e+09  6.902907e+07  0.380  \n",
       "88        0.076923  5.439764e+09  5.986820e+05  0.661  \n",
       "89        0.040816  3.375200e+11  2.716391e+06  0.875  \n",
       "90        0.040816  8.486303e+10  2.056974e+07  0.569  \n",
       "\n",
       "[91 rows x 9 columns]"
      ]
     },
     "execution_count": 29,
     "metadata": {},
     "output_type": "execute_result"
    }
   ],
   "source": [
    "data"
   ]
  },
  {
   "cell_type": "markdown",
   "metadata": {},
   "source": [
    "$\\frac{10^{20}\\times\\text{score}}{\\text{GDP}\\times\\text{Population}\\times\\text{HDI}^2}$"
   ]
  },
  {
   "cell_type": "code",
   "execution_count": 30,
   "metadata": {},
   "outputs": [
    {
     "data": {
      "text/plain": [
       "NOC                object\n",
       "Gold              float64\n",
       "Silver            float64\n",
       "Bronze            float64\n",
       "Total             float64\n",
       "Weighted Score    float64\n",
       "GDP (PPP)         float64\n",
       "Population        float64\n",
       "HDI               float64\n",
       "dtype: object"
      ]
     },
     "execution_count": 30,
     "metadata": {},
     "output_type": "execute_result"
    }
   ],
   "source": [
    "data.dtypes"
   ]
  },
  {
   "cell_type": "code",
   "execution_count": 31,
   "metadata": {},
   "outputs": [],
   "source": [
    "from math import floor\n",
    "scale = 1e10\n",
    "p =6\n",
    "gdp_exp = np.log(data['GDP (PPP)'])**4\n",
    "population_exp = np.log(data['Population'])**4\n",
    "gdp_root = data['GDP (PPP)']**(1/6)\n",
    "pop_root = data['Population']**(1/4)\n",
    "totalScore = scale*data['Weighted Score']/((gdp_root)*(pop_root)*np.floor(10*data['HDI'])**p)\n",
    "# totalScore"
   ]
  },
  {
   "cell_type": "code",
   "execution_count": 32,
   "metadata": {},
   "outputs": [
    {
     "data": {
      "text/html": [
       "<div>\n",
       "<style scoped>\n",
       "    .dataframe tbody tr th:only-of-type {\n",
       "        vertical-align: middle;\n",
       "    }\n",
       "\n",
       "    .dataframe tbody tr th {\n",
       "        vertical-align: top;\n",
       "    }\n",
       "\n",
       "    .dataframe thead th {\n",
       "        text-align: right;\n",
       "    }\n",
       "</style>\n",
       "<table border=\"1\" class=\"dataframe\">\n",
       "  <thead>\n",
       "    <tr style=\"text-align: right;\">\n",
       "      <th></th>\n",
       "      <th>NOC</th>\n",
       "      <th>Gold</th>\n",
       "      <th>Silver</th>\n",
       "      <th>Bronze</th>\n",
       "      <th>Total</th>\n",
       "      <th>Weighted Score</th>\n",
       "      <th>GDP (PPP)</th>\n",
       "      <th>Population</th>\n",
       "      <th>HDI</th>\n",
       "      <th>Total Score</th>\n",
       "    </tr>\n",
       "  </thead>\n",
       "  <tbody>\n",
       "    <tr>\n",
       "      <th>0</th>\n",
       "      <td>Refugee Olympic Team</td>\n",
       "      <td>0.000000</td>\n",
       "      <td>0.000000</td>\n",
       "      <td>0.038462</td>\n",
       "      <td>0.019231</td>\n",
       "      <td>0.076923</td>\n",
       "      <td>1.285405e+09</td>\n",
       "      <td>6.902907e+07</td>\n",
       "      <td>0.380</td>\n",
       "      <td>351.073288</td>\n",
       "    </tr>\n",
       "    <tr>\n",
       "      <th>1</th>\n",
       "      <td>China</td>\n",
       "      <td>5.076111</td>\n",
       "      <td>3.350849</td>\n",
       "      <td>1.925100</td>\n",
       "      <td>3.435164</td>\n",
       "      <td>68.014708</td>\n",
       "      <td>3.464370e+13</td>\n",
       "      <td>1.410710e+09</td>\n",
       "      <td>0.788</td>\n",
       "      <td>165.215624</td>\n",
       "    </tr>\n",
       "    <tr>\n",
       "      <th>2</th>\n",
       "      <td>Ethiopia</td>\n",
       "      <td>0.020833</td>\n",
       "      <td>0.062500</td>\n",
       "      <td>0.000000</td>\n",
       "      <td>0.027586</td>\n",
       "      <td>0.458333</td>\n",
       "      <td>3.934080e+11</td>\n",
       "      <td>1.265271e+08</td>\n",
       "      <td>0.492</td>\n",
       "      <td>123.254213</td>\n",
       "    </tr>\n",
       "    <tr>\n",
       "      <th>3</th>\n",
       "      <td>Fiji</td>\n",
       "      <td>0.000000</td>\n",
       "      <td>0.500000</td>\n",
       "      <td>0.000000</td>\n",
       "      <td>0.166667</td>\n",
       "      <td>2.000000</td>\n",
       "      <td>1.408914e+10</td>\n",
       "      <td>9.363750e+05</td>\n",
       "      <td>0.729</td>\n",
       "      <td>111.198411</td>\n",
       "    </tr>\n",
       "    <tr>\n",
       "      <th>4</th>\n",
       "      <td>Uzbekistan</td>\n",
       "      <td>0.631838</td>\n",
       "      <td>0.225000</td>\n",
       "      <td>0.094444</td>\n",
       "      <td>0.269765</td>\n",
       "      <td>7.407265</td>\n",
       "      <td>3.541000e+11</td>\n",
       "      <td>3.641235e+07</td>\n",
       "      <td>0.727</td>\n",
       "      <td>96.361409</td>\n",
       "    </tr>\n",
       "    <tr>\n",
       "      <th>...</th>\n",
       "      <td>...</td>\n",
       "      <td>...</td>\n",
       "      <td>...</td>\n",
       "      <td>...</td>\n",
       "      <td>...</td>\n",
       "      <td>...</td>\n",
       "      <td>...</td>\n",
       "      <td>...</td>\n",
       "      <td>...</td>\n",
       "      <td>...</td>\n",
       "    </tr>\n",
       "    <tr>\n",
       "      <th>86</th>\n",
       "      <td>Peru</td>\n",
       "      <td>0.000000</td>\n",
       "      <td>0.000000</td>\n",
       "      <td>0.100000</td>\n",
       "      <td>0.033333</td>\n",
       "      <td>0.200000</td>\n",
       "      <td>5.742880e+11</td>\n",
       "      <td>3.435272e+07</td>\n",
       "      <td>0.762</td>\n",
       "      <td>2.435547</td>\n",
       "    </tr>\n",
       "    <tr>\n",
       "      <th>87</th>\n",
       "      <td>Puerto Rico</td>\n",
       "      <td>0.000000</td>\n",
       "      <td>0.000000</td>\n",
       "      <td>0.048186</td>\n",
       "      <td>0.020785</td>\n",
       "      <td>0.096372</td>\n",
       "      <td>1.529100e+11</td>\n",
       "      <td>3.205691e+06</td>\n",
       "      <td>0.880</td>\n",
       "      <td>1.188112</td>\n",
       "    </tr>\n",
       "    <tr>\n",
       "      <th>88</th>\n",
       "      <td>Slovakia</td>\n",
       "      <td>0.000000</td>\n",
       "      <td>0.000000</td>\n",
       "      <td>0.058824</td>\n",
       "      <td>0.020408</td>\n",
       "      <td>0.117647</td>\n",
       "      <td>2.423050e+11</td>\n",
       "      <td>5.426740e+06</td>\n",
       "      <td>0.855</td>\n",
       "      <td>1.177640</td>\n",
       "    </tr>\n",
       "    <tr>\n",
       "      <th>89</th>\n",
       "      <td>Singapore</td>\n",
       "      <td>0.000000</td>\n",
       "      <td>0.000000</td>\n",
       "      <td>0.100000</td>\n",
       "      <td>0.033333</td>\n",
       "      <td>0.200000</td>\n",
       "      <td>8.373480e+11</td>\n",
       "      <td>5.917648e+06</td>\n",
       "      <td>0.949</td>\n",
       "      <td>0.785935</td>\n",
       "    </tr>\n",
       "    <tr>\n",
       "      <th>90</th>\n",
       "      <td>Qatar</td>\n",
       "      <td>0.000000</td>\n",
       "      <td>0.000000</td>\n",
       "      <td>0.020408</td>\n",
       "      <td>0.006897</td>\n",
       "      <td>0.040816</td>\n",
       "      <td>3.375200e+11</td>\n",
       "      <td>2.716391e+06</td>\n",
       "      <td>0.875</td>\n",
       "      <td>0.459635</td>\n",
       "    </tr>\n",
       "  </tbody>\n",
       "</table>\n",
       "<p>91 rows × 10 columns</p>\n",
       "</div>"
      ],
      "text/plain": [
       "                     NOC      Gold    Silver    Bronze     Total  \\\n",
       "0   Refugee Olympic Team  0.000000  0.000000  0.038462  0.019231   \n",
       "1                  China  5.076111  3.350849  1.925100  3.435164   \n",
       "2               Ethiopia  0.020833  0.062500  0.000000  0.027586   \n",
       "3                   Fiji  0.000000  0.500000  0.000000  0.166667   \n",
       "4             Uzbekistan  0.631838  0.225000  0.094444  0.269765   \n",
       "..                   ...       ...       ...       ...       ...   \n",
       "86                  Peru  0.000000  0.000000  0.100000  0.033333   \n",
       "87           Puerto Rico  0.000000  0.000000  0.048186  0.020785   \n",
       "88              Slovakia  0.000000  0.000000  0.058824  0.020408   \n",
       "89             Singapore  0.000000  0.000000  0.100000  0.033333   \n",
       "90                 Qatar  0.000000  0.000000  0.020408  0.006897   \n",
       "\n",
       "    Weighted Score     GDP (PPP)    Population    HDI  Total Score  \n",
       "0         0.076923  1.285405e+09  6.902907e+07  0.380   351.073288  \n",
       "1        68.014708  3.464370e+13  1.410710e+09  0.788   165.215624  \n",
       "2         0.458333  3.934080e+11  1.265271e+08  0.492   123.254213  \n",
       "3         2.000000  1.408914e+10  9.363750e+05  0.729   111.198411  \n",
       "4         7.407265  3.541000e+11  3.641235e+07  0.727    96.361409  \n",
       "..             ...           ...           ...    ...          ...  \n",
       "86        0.200000  5.742880e+11  3.435272e+07  0.762     2.435547  \n",
       "87        0.096372  1.529100e+11  3.205691e+06  0.880     1.188112  \n",
       "88        0.117647  2.423050e+11  5.426740e+06  0.855     1.177640  \n",
       "89        0.200000  8.373480e+11  5.917648e+06  0.949     0.785935  \n",
       "90        0.040816  3.375200e+11  2.716391e+06  0.875     0.459635  \n",
       "\n",
       "[91 rows x 10 columns]"
      ]
     },
     "execution_count": 32,
     "metadata": {},
     "output_type": "execute_result"
    }
   ],
   "source": [
    "data['Total Score'] = totalScore\n",
    "data.sort_values(by='Total Score', ascending=False, ignore_index=True, inplace=True)\n",
    "data"
   ]
  },
  {
   "cell_type": "code",
   "execution_count": 33,
   "metadata": {},
   "outputs": [
    {
     "name": "stdout",
     "output_type": "stream",
     "text": [
      "      NOC  Gold    Silver    Bronze     Total  Weighted Score     GDP (PPP)  \\\n",
      "61  India   0.0  0.020833  0.727778  0.254119        1.538889  1.453740e+13   \n",
      "\n",
      "      Population    HDI  Total Score  \n",
      "61  1.428628e+09  0.644     10.85981  \n",
      "     NOC      Gold    Silver  Bronze     Total  Weighted Score     GDP (PPP)  \\\n",
      "1  China  5.076111  3.350849  1.9251  3.435164       68.014708  3.464370e+13   \n",
      "\n",
      "     Population    HDI  Total Score  \n",
      "1  1.410710e+09  0.788   165.215624  \n"
     ]
    }
   ],
   "source": [
    "print(data.loc[data['NOC'] == 'India'])\n",
    "print(data.loc[data['NOC'] == 'China'])"
   ]
  },
  {
   "cell_type": "code",
   "execution_count": null,
   "metadata": {},
   "outputs": [],
   "source": []
  },
  {
   "cell_type": "code",
   "execution_count": 34,
   "metadata": {},
   "outputs": [],
   "source": [
    "data.to_csv('Results_loglogp6.csv', index=False)"
   ]
  },
  {
   "cell_type": "code",
   "execution_count": 35,
   "metadata": {},
   "outputs": [
    {
     "name": "stdout",
     "output_type": "stream",
     "text": [
      "Requirement already satisfied: plotly in c:\\python311\\lib\\site-packages (5.23.0)\n",
      "Requirement already satisfied: tenacity>=6.2.0 in c:\\python311\\lib\\site-packages (from plotly) (9.0.0)\n",
      "Requirement already satisfied: packaging in c:\\python311\\lib\\site-packages (from plotly) (24.0)\n"
     ]
    },
    {
     "name": "stderr",
     "output_type": "stream",
     "text": [
      "\n",
      "[notice] A new release of pip is available: 23.1.2 -> 24.2\n",
      "[notice] To update, run: python.exe -m pip install --upgrade pip\n"
     ]
    }
   ],
   "source": [
    "!pip install plotly\n"
   ]
  },
  {
   "cell_type": "code",
   "execution_count": 36,
   "metadata": {},
   "outputs": [],
   "source": [
    "import plotly.graph_objects as go\n"
   ]
  },
  {
   "cell_type": "code",
   "execution_count": 37,
   "metadata": {},
   "outputs": [
    {
     "name": "stdout",
     "output_type": "stream",
     "text": [
      "Requirement already satisfied: pycountry in c:\\python311\\lib\\site-packages (24.6.1)\n"
     ]
    },
    {
     "name": "stderr",
     "output_type": "stream",
     "text": [
      "\n",
      "[notice] A new release of pip is available: 23.1.2 -> 24.2\n",
      "[notice] To update, run: python.exe -m pip install --upgrade pip\n"
     ]
    }
   ],
   "source": [
    "!pip install pycountry"
   ]
  },
  {
   "cell_type": "code",
   "execution_count": 38,
   "metadata": {},
   "outputs": [
    {
     "name": "stdout",
     "output_type": "stream",
     "text": [
      "Requirement already satisfied: emoji in c:\\python311\\lib\\site-packages (2.12.1)\n",
      "Requirement already satisfied: typing-extensions>=4.7.0 in c:\\users\\sattu\\appdata\\roaming\\python\\python311\\site-packages (from emoji) (4.12.2)\n"
     ]
    },
    {
     "name": "stderr",
     "output_type": "stream",
     "text": [
      "\n",
      "[notice] A new release of pip is available: 23.1.2 -> 24.2\n",
      "[notice] To update, run: python.exe -m pip install --upgrade pip\n"
     ]
    }
   ],
   "source": [
    "!pip install emoji"
   ]
  },
  {
   "cell_type": "code",
   "execution_count": 39,
   "metadata": {},
   "outputs": [
    {
     "name": "stdout",
     "output_type": "stream",
     "text": [
      "^C\n"
     ]
    },
    {
     "name": "stdout",
     "output_type": "stream",
     "text": [
      "Collecting nbformat\n",
      "  Using cached nbformat-5.10.4-py3-none-any.whl (78 kB)\n",
      "Requirement already satisfied: fastjsonschema>=2.15 in c:\\python311\\lib\\site-packages (from nbformat) (2.19.1)\n",
      "Requirement already satisfied: jsonschema>=2.6 in c:\\python311\\lib\\site-packages (from nbformat) (4.23.0)\n",
      "Requirement already satisfied: jupyter-core!=5.0.*,>=4.12 in c:\\users\\sattu\\appdata\\roaming\\python\\python311\\site-packages (from nbformat) (5.7.2)\n",
      "Requirement already satisfied: traitlets>=5.1 in c:\\users\\sattu\\appdata\\roaming\\python\\python311\\site-packages (from nbformat) (5.14.3)\n",
      "Requirement already satisfied: attrs>=22.2.0 in c:\\python311\\lib\\site-packages (from jsonschema>=2.6->nbformat) (24.2.0)\n",
      "Requirement already satisfied: jsonschema-specifications>=2023.03.6 in c:\\python311\\lib\\site-packages (from jsonschema>=2.6->nbformat) (2023.12.1)\n",
      "Requirement already satisfied: referencing>=0.28.4 in c:\\python311\\lib\\site-packages (from jsonschema>=2.6->nbformat) (0.35.1)\n",
      "Requirement already satisfied: rpds-py>=0.7.1 in c:\\python311\\lib\\site-packages (from jsonschema>=2.6->nbformat) (0.20.0)\n",
      "Requirement already satisfied: platformdirs>=2.5 in c:\\python311\\lib\\site-packages (from jupyter-core!=5.0.*,>=4.12->nbformat) (4.2.0)\n",
      "Requirement already satisfied: pywin32>=300 in c:\\python311\\lib\\site-packages (from jupyter-core!=5.0.*,>=4.12->nbformat) (306)\n",
      "Installing collected packages: nbformat\n"
     ]
    },
    {
     "name": "stderr",
     "output_type": "stream",
     "text": [
      "  WARNING: Failed to write executable - trying to use .deleteme logic\n",
      "ERROR: Could not install packages due to an OSError: [WinError 2] The system cannot find the file specified: 'C:\\\\Python311\\\\Scripts\\\\jupyter-trust.exe' -> 'C:\\\\Python311\\\\Scripts\\\\jupyter-trust.exe.deleteme'\n",
      "\n",
      "\n",
      "[notice] A new release of pip is available: 23.1.2 -> 24.2\n",
      "[notice] To update, run: python.exe -m pip install --upgrade pip\n"
     ]
    }
   ],
   "source": [
    "!pip install --upgrade nbformat"
   ]
  },
  {
   "cell_type": "code",
   "execution_count": null,
   "metadata": {},
   "outputs": [
    {
     "name": "stdout",
     "output_type": "stream",
     "text": [
      "Requirement already satisfied: ipython in c:\\users\\sattu\\appdata\\roaming\\python\\python311\\site-packages (8.26.0)\n",
      "Requirement already satisfied: decorator in c:\\users\\sattu\\appdata\\roaming\\python\\python311\\site-packages (from ipython) (5.1.1)\n",
      "Requirement already satisfied: jedi>=0.16 in c:\\users\\sattu\\appdata\\roaming\\python\\python311\\site-packages (from ipython) (0.19.1)\n",
      "Requirement already satisfied: matplotlib-inline in c:\\users\\sattu\\appdata\\roaming\\python\\python311\\site-packages (from ipython) (0.1.7)\n",
      "Requirement already satisfied: prompt-toolkit<3.1.0,>=3.0.41 in c:\\users\\sattu\\appdata\\roaming\\python\\python311\\site-packages (from ipython) (3.0.47)\n",
      "Requirement already satisfied: pygments>=2.4.0 in c:\\users\\sattu\\appdata\\roaming\\python\\python311\\site-packages (from ipython) (2.18.0)\n",
      "Requirement already satisfied: stack-data in c:\\users\\sattu\\appdata\\roaming\\python\\python311\\site-packages (from ipython) (0.6.3)\n",
      "Requirement already satisfied: traitlets>=5.13.0 in c:\\users\\sattu\\appdata\\roaming\\python\\python311\\site-packages (from ipython) (5.14.3)\n",
      "Requirement already satisfied: typing-extensions>=4.6 in c:\\users\\sattu\\appdata\\roaming\\python\\python311\\site-packages (from ipython) (4.12.2)\n",
      "Requirement already satisfied: colorama in c:\\python311\\lib\\site-packages (from ipython) (0.4.6)\n",
      "Requirement already satisfied: parso<0.9.0,>=0.8.3 in c:\\users\\sattu\\appdata\\roaming\\python\\python311\\site-packages (from jedi>=0.16->ipython) (0.8.4)\n",
      "Requirement already satisfied: wcwidth in c:\\users\\sattu\\appdata\\roaming\\python\\python311\\site-packages (from prompt-toolkit<3.1.0,>=3.0.41->ipython) (0.2.13)\n",
      "Requirement already satisfied: executing>=1.2.0 in c:\\users\\sattu\\appdata\\roaming\\python\\python311\\site-packages (from stack-data->ipython) (2.0.1)\n",
      "Requirement already satisfied: asttokens>=2.1.0 in c:\\users\\sattu\\appdata\\roaming\\python\\python311\\site-packages (from stack-data->ipython) (2.4.1)\n",
      "Requirement already satisfied: pure-eval in c:\\users\\sattu\\appdata\\roaming\\python\\python311\\site-packages (from stack-data->ipython) (0.2.3)\n",
      "Requirement already satisfied: six>=1.12.0 in c:\\python311\\lib\\site-packages (from asttokens>=2.1.0->stack-data->ipython) (1.16.0)\n"
     ]
    },
    {
     "name": "stderr",
     "output_type": "stream",
     "text": [
      "\n",
      "[notice] A new release of pip is available: 23.1.2 -> 24.2\n",
      "[notice] To update, run: python.exe -m pip install --upgrade pip\n"
     ]
    }
   ],
   "source": [
    "!pip install --upgrade ipython\n"
   ]
  },
  {
   "cell_type": "code",
   "execution_count": 51,
   "metadata": {},
   "outputs": [
    {
     "data": {
      "application/vnd.plotly.v1+json": {
       "config": {
        "plotlyServerURL": "https://plot.ly"
       },
       "data": [
        {
         "marker": {
          "color": "#F1A7CB"
         },
         "name": "Total Score",
         "type": "bar",
         "x": [
          " Refugee Olympic Team",
          " China",
          " Ethiopia",
          " Fiji",
          " Uzbekistan",
          " Serbia",
          " New Zealand",
          " Hungary",
          " France",
          " Netherlands"
         ],
         "y": [
          351.0732877016503,
          165.21562430744964,
          123.25421317146507,
          111.19841050383941,
          96.36140892317883,
          86.63872599129039,
          85.11256295775387,
          79.56328322394565,
          71.63984465128102,
          65.93197949650907
         ]
        }
       ],
       "layout": {
        "annotations": [
         {
          "font": {
           "color": "gray",
           "size": 12
          },
          "showarrow": false,
          "text": "Beyond Medals: A Deep Dive into the Real Winners of the Olympics",
          "x": 0.5,
          "xanchor": "center",
          "xref": "paper",
          "y": -0.15,
          "yanchor": "top",
          "yref": "paper"
         }
        ],
        "barmode": "group",
        "height": 600,
        "legend": {
         "title": {
          "text": "Metrics"
         },
         "x": 1,
         "y": 1.05
        },
        "template": {
         "data": {
          "bar": [
           {
            "error_x": {
             "color": "#2a3f5f"
            },
            "error_y": {
             "color": "#2a3f5f"
            },
            "marker": {
             "line": {
              "color": "white",
              "width": 0.5
             },
             "pattern": {
              "fillmode": "overlay",
              "size": 10,
              "solidity": 0.2
             }
            },
            "type": "bar"
           }
          ],
          "barpolar": [
           {
            "marker": {
             "line": {
              "color": "white",
              "width": 0.5
             },
             "pattern": {
              "fillmode": "overlay",
              "size": 10,
              "solidity": 0.2
             }
            },
            "type": "barpolar"
           }
          ],
          "carpet": [
           {
            "aaxis": {
             "endlinecolor": "#2a3f5f",
             "gridcolor": "#C8D4E3",
             "linecolor": "#C8D4E3",
             "minorgridcolor": "#C8D4E3",
             "startlinecolor": "#2a3f5f"
            },
            "baxis": {
             "endlinecolor": "#2a3f5f",
             "gridcolor": "#C8D4E3",
             "linecolor": "#C8D4E3",
             "minorgridcolor": "#C8D4E3",
             "startlinecolor": "#2a3f5f"
            },
            "type": "carpet"
           }
          ],
          "choropleth": [
           {
            "colorbar": {
             "outlinewidth": 0,
             "ticks": ""
            },
            "type": "choropleth"
           }
          ],
          "contour": [
           {
            "colorbar": {
             "outlinewidth": 0,
             "ticks": ""
            },
            "colorscale": [
             [
              0,
              "#0d0887"
             ],
             [
              0.1111111111111111,
              "#46039f"
             ],
             [
              0.2222222222222222,
              "#7201a8"
             ],
             [
              0.3333333333333333,
              "#9c179e"
             ],
             [
              0.4444444444444444,
              "#bd3786"
             ],
             [
              0.5555555555555556,
              "#d8576b"
             ],
             [
              0.6666666666666666,
              "#ed7953"
             ],
             [
              0.7777777777777778,
              "#fb9f3a"
             ],
             [
              0.8888888888888888,
              "#fdca26"
             ],
             [
              1,
              "#f0f921"
             ]
            ],
            "type": "contour"
           }
          ],
          "contourcarpet": [
           {
            "colorbar": {
             "outlinewidth": 0,
             "ticks": ""
            },
            "type": "contourcarpet"
           }
          ],
          "heatmap": [
           {
            "colorbar": {
             "outlinewidth": 0,
             "ticks": ""
            },
            "colorscale": [
             [
              0,
              "#0d0887"
             ],
             [
              0.1111111111111111,
              "#46039f"
             ],
             [
              0.2222222222222222,
              "#7201a8"
             ],
             [
              0.3333333333333333,
              "#9c179e"
             ],
             [
              0.4444444444444444,
              "#bd3786"
             ],
             [
              0.5555555555555556,
              "#d8576b"
             ],
             [
              0.6666666666666666,
              "#ed7953"
             ],
             [
              0.7777777777777778,
              "#fb9f3a"
             ],
             [
              0.8888888888888888,
              "#fdca26"
             ],
             [
              1,
              "#f0f921"
             ]
            ],
            "type": "heatmap"
           }
          ],
          "heatmapgl": [
           {
            "colorbar": {
             "outlinewidth": 0,
             "ticks": ""
            },
            "colorscale": [
             [
              0,
              "#0d0887"
             ],
             [
              0.1111111111111111,
              "#46039f"
             ],
             [
              0.2222222222222222,
              "#7201a8"
             ],
             [
              0.3333333333333333,
              "#9c179e"
             ],
             [
              0.4444444444444444,
              "#bd3786"
             ],
             [
              0.5555555555555556,
              "#d8576b"
             ],
             [
              0.6666666666666666,
              "#ed7953"
             ],
             [
              0.7777777777777778,
              "#fb9f3a"
             ],
             [
              0.8888888888888888,
              "#fdca26"
             ],
             [
              1,
              "#f0f921"
             ]
            ],
            "type": "heatmapgl"
           }
          ],
          "histogram": [
           {
            "marker": {
             "pattern": {
              "fillmode": "overlay",
              "size": 10,
              "solidity": 0.2
             }
            },
            "type": "histogram"
           }
          ],
          "histogram2d": [
           {
            "colorbar": {
             "outlinewidth": 0,
             "ticks": ""
            },
            "colorscale": [
             [
              0,
              "#0d0887"
             ],
             [
              0.1111111111111111,
              "#46039f"
             ],
             [
              0.2222222222222222,
              "#7201a8"
             ],
             [
              0.3333333333333333,
              "#9c179e"
             ],
             [
              0.4444444444444444,
              "#bd3786"
             ],
             [
              0.5555555555555556,
              "#d8576b"
             ],
             [
              0.6666666666666666,
              "#ed7953"
             ],
             [
              0.7777777777777778,
              "#fb9f3a"
             ],
             [
              0.8888888888888888,
              "#fdca26"
             ],
             [
              1,
              "#f0f921"
             ]
            ],
            "type": "histogram2d"
           }
          ],
          "histogram2dcontour": [
           {
            "colorbar": {
             "outlinewidth": 0,
             "ticks": ""
            },
            "colorscale": [
             [
              0,
              "#0d0887"
             ],
             [
              0.1111111111111111,
              "#46039f"
             ],
             [
              0.2222222222222222,
              "#7201a8"
             ],
             [
              0.3333333333333333,
              "#9c179e"
             ],
             [
              0.4444444444444444,
              "#bd3786"
             ],
             [
              0.5555555555555556,
              "#d8576b"
             ],
             [
              0.6666666666666666,
              "#ed7953"
             ],
             [
              0.7777777777777778,
              "#fb9f3a"
             ],
             [
              0.8888888888888888,
              "#fdca26"
             ],
             [
              1,
              "#f0f921"
             ]
            ],
            "type": "histogram2dcontour"
           }
          ],
          "mesh3d": [
           {
            "colorbar": {
             "outlinewidth": 0,
             "ticks": ""
            },
            "type": "mesh3d"
           }
          ],
          "parcoords": [
           {
            "line": {
             "colorbar": {
              "outlinewidth": 0,
              "ticks": ""
             }
            },
            "type": "parcoords"
           }
          ],
          "pie": [
           {
            "automargin": true,
            "type": "pie"
           }
          ],
          "scatter": [
           {
            "fillpattern": {
             "fillmode": "overlay",
             "size": 10,
             "solidity": 0.2
            },
            "type": "scatter"
           }
          ],
          "scatter3d": [
           {
            "line": {
             "colorbar": {
              "outlinewidth": 0,
              "ticks": ""
             }
            },
            "marker": {
             "colorbar": {
              "outlinewidth": 0,
              "ticks": ""
             }
            },
            "type": "scatter3d"
           }
          ],
          "scattercarpet": [
           {
            "marker": {
             "colorbar": {
              "outlinewidth": 0,
              "ticks": ""
             }
            },
            "type": "scattercarpet"
           }
          ],
          "scattergeo": [
           {
            "marker": {
             "colorbar": {
              "outlinewidth": 0,
              "ticks": ""
             }
            },
            "type": "scattergeo"
           }
          ],
          "scattergl": [
           {
            "marker": {
             "colorbar": {
              "outlinewidth": 0,
              "ticks": ""
             }
            },
            "type": "scattergl"
           }
          ],
          "scattermapbox": [
           {
            "marker": {
             "colorbar": {
              "outlinewidth": 0,
              "ticks": ""
             }
            },
            "type": "scattermapbox"
           }
          ],
          "scatterpolar": [
           {
            "marker": {
             "colorbar": {
              "outlinewidth": 0,
              "ticks": ""
             }
            },
            "type": "scatterpolar"
           }
          ],
          "scatterpolargl": [
           {
            "marker": {
             "colorbar": {
              "outlinewidth": 0,
              "ticks": ""
             }
            },
            "type": "scatterpolargl"
           }
          ],
          "scatterternary": [
           {
            "marker": {
             "colorbar": {
              "outlinewidth": 0,
              "ticks": ""
             }
            },
            "type": "scatterternary"
           }
          ],
          "surface": [
           {
            "colorbar": {
             "outlinewidth": 0,
             "ticks": ""
            },
            "colorscale": [
             [
              0,
              "#0d0887"
             ],
             [
              0.1111111111111111,
              "#46039f"
             ],
             [
              0.2222222222222222,
              "#7201a8"
             ],
             [
              0.3333333333333333,
              "#9c179e"
             ],
             [
              0.4444444444444444,
              "#bd3786"
             ],
             [
              0.5555555555555556,
              "#d8576b"
             ],
             [
              0.6666666666666666,
              "#ed7953"
             ],
             [
              0.7777777777777778,
              "#fb9f3a"
             ],
             [
              0.8888888888888888,
              "#fdca26"
             ],
             [
              1,
              "#f0f921"
             ]
            ],
            "type": "surface"
           }
          ],
          "table": [
           {
            "cells": {
             "fill": {
              "color": "#EBF0F8"
             },
             "line": {
              "color": "white"
             }
            },
            "header": {
             "fill": {
              "color": "#C8D4E3"
             },
             "line": {
              "color": "white"
             }
            },
            "type": "table"
           }
          ]
         },
         "layout": {
          "annotationdefaults": {
           "arrowcolor": "#2a3f5f",
           "arrowhead": 0,
           "arrowwidth": 1
          },
          "autotypenumbers": "strict",
          "coloraxis": {
           "colorbar": {
            "outlinewidth": 0,
            "ticks": ""
           }
          },
          "colorscale": {
           "diverging": [
            [
             0,
             "#8e0152"
            ],
            [
             0.1,
             "#c51b7d"
            ],
            [
             0.2,
             "#de77ae"
            ],
            [
             0.3,
             "#f1b6da"
            ],
            [
             0.4,
             "#fde0ef"
            ],
            [
             0.5,
             "#f7f7f7"
            ],
            [
             0.6,
             "#e6f5d0"
            ],
            [
             0.7,
             "#b8e186"
            ],
            [
             0.8,
             "#7fbc41"
            ],
            [
             0.9,
             "#4d9221"
            ],
            [
             1,
             "#276419"
            ]
           ],
           "sequential": [
            [
             0,
             "#0d0887"
            ],
            [
             0.1111111111111111,
             "#46039f"
            ],
            [
             0.2222222222222222,
             "#7201a8"
            ],
            [
             0.3333333333333333,
             "#9c179e"
            ],
            [
             0.4444444444444444,
             "#bd3786"
            ],
            [
             0.5555555555555556,
             "#d8576b"
            ],
            [
             0.6666666666666666,
             "#ed7953"
            ],
            [
             0.7777777777777778,
             "#fb9f3a"
            ],
            [
             0.8888888888888888,
             "#fdca26"
            ],
            [
             1,
             "#f0f921"
            ]
           ],
           "sequentialminus": [
            [
             0,
             "#0d0887"
            ],
            [
             0.1111111111111111,
             "#46039f"
            ],
            [
             0.2222222222222222,
             "#7201a8"
            ],
            [
             0.3333333333333333,
             "#9c179e"
            ],
            [
             0.4444444444444444,
             "#bd3786"
            ],
            [
             0.5555555555555556,
             "#d8576b"
            ],
            [
             0.6666666666666666,
             "#ed7953"
            ],
            [
             0.7777777777777778,
             "#fb9f3a"
            ],
            [
             0.8888888888888888,
             "#fdca26"
            ],
            [
             1,
             "#f0f921"
            ]
           ]
          },
          "colorway": [
           "#636efa",
           "#EF553B",
           "#00cc96",
           "#ab63fa",
           "#FFA15A",
           "#19d3f3",
           "#FF6692",
           "#B6E880",
           "#FF97FF",
           "#FECB52"
          ],
          "font": {
           "color": "#2a3f5f"
          },
          "geo": {
           "bgcolor": "white",
           "lakecolor": "white",
           "landcolor": "white",
           "showlakes": true,
           "showland": true,
           "subunitcolor": "#C8D4E3"
          },
          "hoverlabel": {
           "align": "left"
          },
          "hovermode": "closest",
          "mapbox": {
           "style": "light"
          },
          "paper_bgcolor": "white",
          "plot_bgcolor": "white",
          "polar": {
           "angularaxis": {
            "gridcolor": "#EBF0F8",
            "linecolor": "#EBF0F8",
            "ticks": ""
           },
           "bgcolor": "white",
           "radialaxis": {
            "gridcolor": "#EBF0F8",
            "linecolor": "#EBF0F8",
            "ticks": ""
           }
          },
          "scene": {
           "xaxis": {
            "backgroundcolor": "white",
            "gridcolor": "#DFE8F3",
            "gridwidth": 2,
            "linecolor": "#EBF0F8",
            "showbackground": true,
            "ticks": "",
            "zerolinecolor": "#EBF0F8"
           },
           "yaxis": {
            "backgroundcolor": "white",
            "gridcolor": "#DFE8F3",
            "gridwidth": 2,
            "linecolor": "#EBF0F8",
            "showbackground": true,
            "ticks": "",
            "zerolinecolor": "#EBF0F8"
           },
           "zaxis": {
            "backgroundcolor": "white",
            "gridcolor": "#DFE8F3",
            "gridwidth": 2,
            "linecolor": "#EBF0F8",
            "showbackground": true,
            "ticks": "",
            "zerolinecolor": "#EBF0F8"
           }
          },
          "shapedefaults": {
           "line": {
            "color": "#2a3f5f"
           }
          },
          "ternary": {
           "aaxis": {
            "gridcolor": "#DFE8F3",
            "linecolor": "#A2B1C6",
            "ticks": ""
           },
           "baxis": {
            "gridcolor": "#DFE8F3",
            "linecolor": "#A2B1C6",
            "ticks": ""
           },
           "bgcolor": "white",
           "caxis": {
            "gridcolor": "#DFE8F3",
            "linecolor": "#A2B1C6",
            "ticks": ""
           }
          },
          "title": {
           "x": 0.05
          },
          "xaxis": {
           "automargin": true,
           "gridcolor": "#EBF0F8",
           "linecolor": "#EBF0F8",
           "ticks": "",
           "title": {
            "standoff": 15
           },
           "zerolinecolor": "#EBF0F8",
           "zerolinewidth": 2
          },
          "yaxis": {
           "automargin": true,
           "gridcolor": "#EBF0F8",
           "linecolor": "#EBF0F8",
           "ticks": "",
           "title": {
            "standoff": 15
           },
           "zerolinecolor": "#EBF0F8",
           "zerolinewidth": 2
          }
         }
        },
        "title": {
         "font": {
          "color": "#333",
          "family": "Arial, sans-serif",
          "size": 24
         }
        },
        "width": 1000,
        "xaxis": {
         "tickfont": {
          "color": "#333",
          "family": "Arial, sans-serif",
          "size": 14
         },
         "title": {
          "text": "Country"
         }
        },
        "yaxis": {
         "tickfont": {
          "color": "#333",
          "family": "Arial, sans-serif",
          "size": 14
         },
         "title": {
          "text": "Scores"
         }
        }
       }
      }
     },
     "metadata": {},
     "output_type": "display_data"
    }
   ],
   "source": [
    "import pycountry\n",
    "import emoji\n",
    "top_10_df = data.sort_values(by='Total Score', ascending=False).head(10)\n",
    "\n",
    "# Extracting the data for the plot\n",
    "countries = top_10_df['NOC']\n",
    "# gold = top_10_df['Gold']\n",
    "# silver = top_10_df['Silver']\n",
    "# bronze = top_10_df['Bronze']\n",
    "total_score = top_10_df['Total Score']\n",
    "\n",
    "# Function to get flag emoji\n",
    "def get_flag_emoji(country_code):\n",
    "    country = pycountry.countries.get(alpha_3=country_code)\n",
    "    if country:\n",
    "        return emoji.emojize(f':{country.alpha_2.lower()}:', use_aliases=True)\n",
    "    return ''\n",
    "\n",
    "# Add flags to country labels\n",
    "country_labels = [f\"{get_flag_emoji(country)} {country}\" for country in countries]\n",
    "\n",
    "# Creating the grouped bar chart\n",
    "fig = go.Figure(data=[\n",
    "    # go.Bar(name='Gold', x=country_labels, y=gold, marker_color='gold'),\n",
    "    # go.Bar(name='Silver', x=country_labels, y=silver, marker_color='silver'),\n",
    "    # go.Bar(name='Bronze', x=country_labels, y=bronze, marker_color='#cd7f32'),  # Bronze color\n",
    "    go.Bar(name='Total Score', x=country_labels, y=total_score, marker_color='#F1A7CB')\n",
    "])\n",
    "\n",
    "# Customize layout for LinkedIn\n",
    "fig.update_layout(\n",
    "    # title='Who Actually ',\n",
    "    xaxis_title='Country',\n",
    "    yaxis_title='Scores',\n",
    "    barmode='group',\n",
    "    template='plotly_white',\n",
    "    title_font=dict(size=24, family='Arial, sans-serif', color='#333'),\n",
    "    xaxis_tickfont=dict(size=14, family='Arial, sans-serif', color='#333'),\n",
    "    yaxis_tickfont=dict(size=14, family='Arial, sans-serif', color='#333'),\n",
    "    legend=dict(title='Metrics', x=1, y=1.05),\n",
    "    height=600,\n",
    "    width=1000\n",
    ")\n",
    "\n",
    "# Add annotations for better readability\n",
    "fig.update_layout(\n",
    "    annotations=[\n",
    "        go.layout.Annotation(\n",
    "            text='Beyond Medals: A Deep Dive into the Real Winners of the Olympics',\n",
    "            showarrow=False,\n",
    "            xref='paper',\n",
    "            yref='paper',\n",
    "            x=0.5,\n",
    "            y=-0.15,\n",
    "            xanchor='center',\n",
    "            yanchor='top',\n",
    "            font=dict(size=12, color='gray')\n",
    "        )\n",
    "    ]\n",
    ")"
   ]
  },
  {
   "cell_type": "code",
   "execution_count": null,
   "metadata": {},
   "outputs": [],
   "source": []
  }
 ],
 "metadata": {
  "kernelspec": {
   "display_name": "base",
   "language": "python",
   "name": "python3"
  },
  "language_info": {
   "codemirror_mode": {
    "name": "ipython",
    "version": 3
   },
   "file_extension": ".py",
   "mimetype": "text/x-python",
   "name": "python",
   "nbconvert_exporter": "python",
   "pygments_lexer": "ipython3",
   "version": "3.11.0"
  }
 },
 "nbformat": 4,
 "nbformat_minor": 2
}
